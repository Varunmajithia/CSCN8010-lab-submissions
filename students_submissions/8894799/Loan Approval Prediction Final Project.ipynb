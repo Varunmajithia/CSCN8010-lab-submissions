{
 "cells": [
  {
   "cell_type": "markdown",
   "id": "1ca9b9e2",
   "metadata": {},
   "source": [
    "# Final Project: Loan Approval Prediction\n",
    "\n",
    "## Foundation of Machine Learning\n",
    "## Group 7\n",
    "\n",
    "## Group Members\n",
    "\n",
    "## Varun Biren Majithia (Student ID - 8894799)\n",
    "## Rohit Kumar (Student ID - 8895806)"
   ]
  },
  {
   "cell_type": "code",
   "execution_count": 1,
   "id": "29e72d57",
   "metadata": {},
   "outputs": [],
   "source": [
    "import warnings\n",
    "warnings.filterwarnings('ignore')\n",
    "import pandas as pd\n",
    "import numpy as np\n",
    "from imblearn.over_sampling import SMOTE\n",
    "import matplotlib.pyplot as plt\n",
    "import seaborn as sns\n",
    "from sklearn.linear_model import LogisticRegression\n",
    "from sklearn.model_selection import cross_val_score\n",
    "from sklearn.model_selection import train_test_split\n",
    "from sklearn.metrics import roc_curve,precision_recall_curve,precision_score,accuracy_score,confusion_matrix,f1_score,recall_score\n",
    "import pandas as pd\n",
    "from sklearn.feature_selection import RFE\n",
    "from sklearn.ensemble import RandomForestClassifier, GradientBoostingClassifier\n",
    "from sklearn.model_selection import GridSearchCV\n",
    "from sklearn.preprocessing import StandardScaler\n",
    "from keras.models import Sequential\n",
    "from keras.layers import Dense\n",
    "from sklearn.tree import DecisionTreeClassifier"
   ]
  },
  {
   "cell_type": "markdown",
   "id": "a197b99b",
   "metadata": {},
   "source": [
    "# Loading the dataset to the python environment"
   ]
  },
  {
   "cell_type": "code",
   "execution_count": 2,
   "id": "ed0a269e",
   "metadata": {},
   "outputs": [],
   "source": [
    "df = pd.read_csv(\"C://Users//Admin//Downloads/loan_approval_dataset.csv\")"
   ]
  },
  {
   "cell_type": "code",
   "execution_count": 3,
   "id": "d54f969b",
   "metadata": {},
   "outputs": [],
   "source": [
    "df.columns = [col.strip() for col in df.columns]"
   ]
  },
  {
   "cell_type": "code",
   "execution_count": 4,
   "id": "2d1278a7",
   "metadata": {},
   "outputs": [
    {
     "data": {
      "text/html": [
       "<div>\n",
       "<style scoped>\n",
       "    .dataframe tbody tr th:only-of-type {\n",
       "        vertical-align: middle;\n",
       "    }\n",
       "\n",
       "    .dataframe tbody tr th {\n",
       "        vertical-align: top;\n",
       "    }\n",
       "\n",
       "    .dataframe thead th {\n",
       "        text-align: right;\n",
       "    }\n",
       "</style>\n",
       "<table border=\"1\" class=\"dataframe\">\n",
       "  <thead>\n",
       "    <tr style=\"text-align: right;\">\n",
       "      <th></th>\n",
       "      <th>loan_id</th>\n",
       "      <th>no_of_dependents</th>\n",
       "      <th>education</th>\n",
       "      <th>self_employed</th>\n",
       "      <th>income_annum</th>\n",
       "      <th>loan_amount</th>\n",
       "      <th>loan_term</th>\n",
       "      <th>cibil_score</th>\n",
       "      <th>residential_assets_value</th>\n",
       "      <th>commercial_assets_value</th>\n",
       "      <th>luxury_assets_value</th>\n",
       "      <th>bank_asset_value</th>\n",
       "      <th>loan_status</th>\n",
       "    </tr>\n",
       "  </thead>\n",
       "  <tbody>\n",
       "    <tr>\n",
       "      <th>0</th>\n",
       "      <td>16</td>\n",
       "      <td>5</td>\n",
       "      <td>Not Graduate</td>\n",
       "      <td>No</td>\n",
       "      <td>4700000</td>\n",
       "      <td>10700000</td>\n",
       "      <td>10</td>\n",
       "      <td>794</td>\n",
       "      <td>5700000</td>\n",
       "      <td>3900000</td>\n",
       "      <td>16400000</td>\n",
       "      <td>4400000</td>\n",
       "      <td>Approved</td>\n",
       "    </tr>\n",
       "    <tr>\n",
       "      <th>1</th>\n",
       "      <td>4</td>\n",
       "      <td>3</td>\n",
       "      <td>Graduate</td>\n",
       "      <td>No</td>\n",
       "      <td>8200000</td>\n",
       "      <td>30700000</td>\n",
       "      <td>8</td>\n",
       "      <td>467</td>\n",
       "      <td>18200000</td>\n",
       "      <td>3300000</td>\n",
       "      <td>23300000</td>\n",
       "      <td>7900000</td>\n",
       "      <td>Rejected</td>\n",
       "    </tr>\n",
       "    <tr>\n",
       "      <th>2</th>\n",
       "      <td>5</td>\n",
       "      <td>5</td>\n",
       "      <td>Not Graduate</td>\n",
       "      <td>Yes</td>\n",
       "      <td>9800000</td>\n",
       "      <td>24200000</td>\n",
       "      <td>20</td>\n",
       "      <td>382</td>\n",
       "      <td>12400000</td>\n",
       "      <td>8200000</td>\n",
       "      <td>29400000</td>\n",
       "      <td>5000000</td>\n",
       "      <td>Rejected</td>\n",
       "    </tr>\n",
       "    <tr>\n",
       "      <th>3</th>\n",
       "      <td>6</td>\n",
       "      <td>0</td>\n",
       "      <td>Graduate</td>\n",
       "      <td>Yes</td>\n",
       "      <td>4800000</td>\n",
       "      <td>13500000</td>\n",
       "      <td>10</td>\n",
       "      <td>319</td>\n",
       "      <td>6800000</td>\n",
       "      <td>8300000</td>\n",
       "      <td>13700000</td>\n",
       "      <td>5100000</td>\n",
       "      <td>Rejected</td>\n",
       "    </tr>\n",
       "    <tr>\n",
       "      <th>4</th>\n",
       "      <td>7</td>\n",
       "      <td>5</td>\n",
       "      <td>Graduate</td>\n",
       "      <td>No</td>\n",
       "      <td>8700000</td>\n",
       "      <td>33000000</td>\n",
       "      <td>4</td>\n",
       "      <td>678</td>\n",
       "      <td>22500000</td>\n",
       "      <td>14800000</td>\n",
       "      <td>29200000</td>\n",
       "      <td>4300000</td>\n",
       "      <td>Approved</td>\n",
       "    </tr>\n",
       "  </tbody>\n",
       "</table>\n",
       "</div>"
      ],
      "text/plain": [
       "   loan_id  no_of_dependents      education self_employed  income_annum  \\\n",
       "0       16                 5   Not Graduate            No       4700000   \n",
       "1        4                 3       Graduate            No       8200000   \n",
       "2        5                 5   Not Graduate           Yes       9800000   \n",
       "3        6                 0       Graduate           Yes       4800000   \n",
       "4        7                 5       Graduate            No       8700000   \n",
       "\n",
       "   loan_amount  loan_term  cibil_score  residential_assets_value  \\\n",
       "0     10700000         10          794                   5700000   \n",
       "1     30700000          8          467                  18200000   \n",
       "2     24200000         20          382                  12400000   \n",
       "3     13500000         10          319                   6800000   \n",
       "4     33000000          4          678                  22500000   \n",
       "\n",
       "   commercial_assets_value  luxury_assets_value  bank_asset_value loan_status  \n",
       "0                  3900000             16400000           4400000    Approved  \n",
       "1                  3300000             23300000           7900000    Rejected  \n",
       "2                  8200000             29400000           5000000    Rejected  \n",
       "3                  8300000             13700000           5100000    Rejected  \n",
       "4                 14800000             29200000           4300000    Approved  "
      ]
     },
     "execution_count": 4,
     "metadata": {},
     "output_type": "execute_result"
    }
   ],
   "source": [
    "df.head()"
   ]
  },
  {
   "cell_type": "code",
   "execution_count": 82,
   "id": "15b62573",
   "metadata": {},
   "outputs": [
    {
     "data": {
      "text/plain": [
       "Index(['loan_id', 'no_of_dependents', 'income_annum', 'loan_amount',\n",
       "       'loan_term', 'cibil_score', 'residential_assets_value',\n",
       "       'commercial_assets_value', 'luxury_assets_value', 'bank_asset_value',\n",
       "       'education_enocoded', 'self_employed_encoded', 'loan_status_encoded'],\n",
       "      dtype='object')"
      ]
     },
     "execution_count": 82,
     "metadata": {},
     "output_type": "execute_result"
    }
   ],
   "source": [
    "df.columns"
   ]
  },
  {
   "cell_type": "code",
   "execution_count": 85,
   "id": "a0ea6f99",
   "metadata": {},
   "outputs": [
    {
     "data": {
      "text/html": [
       "<div>\n",
       "<style scoped>\n",
       "    .dataframe tbody tr th:only-of-type {\n",
       "        vertical-align: middle;\n",
       "    }\n",
       "\n",
       "    .dataframe tbody tr th {\n",
       "        vertical-align: top;\n",
       "    }\n",
       "\n",
       "    .dataframe thead th {\n",
       "        text-align: right;\n",
       "    }\n",
       "</style>\n",
       "<table border=\"1\" class=\"dataframe\">\n",
       "  <thead>\n",
       "    <tr style=\"text-align: right;\">\n",
       "      <th></th>\n",
       "      <th>loan_id</th>\n",
       "      <th>no_of_dependents</th>\n",
       "      <th>income_annum</th>\n",
       "      <th>loan_amount</th>\n",
       "      <th>loan_term</th>\n",
       "      <th>cibil_score</th>\n",
       "      <th>residential_assets_value</th>\n",
       "      <th>commercial_assets_value</th>\n",
       "      <th>luxury_assets_value</th>\n",
       "      <th>bank_asset_value</th>\n",
       "      <th>education_enocoded</th>\n",
       "      <th>self_employed_encoded</th>\n",
       "      <th>loan_status_encoded</th>\n",
       "    </tr>\n",
       "  </thead>\n",
       "  <tbody>\n",
       "    <tr>\n",
       "      <th>0</th>\n",
       "      <td>16</td>\n",
       "      <td>5</td>\n",
       "      <td>4700000</td>\n",
       "      <td>10700000</td>\n",
       "      <td>10</td>\n",
       "      <td>794</td>\n",
       "      <td>5700000</td>\n",
       "      <td>3900000</td>\n",
       "      <td>16400000</td>\n",
       "      <td>4400000</td>\n",
       "      <td>0</td>\n",
       "      <td>0</td>\n",
       "      <td>1</td>\n",
       "    </tr>\n",
       "    <tr>\n",
       "      <th>1</th>\n",
       "      <td>4</td>\n",
       "      <td>3</td>\n",
       "      <td>8200000</td>\n",
       "      <td>30700000</td>\n",
       "      <td>8</td>\n",
       "      <td>467</td>\n",
       "      <td>18200000</td>\n",
       "      <td>3300000</td>\n",
       "      <td>23300000</td>\n",
       "      <td>7900000</td>\n",
       "      <td>1</td>\n",
       "      <td>0</td>\n",
       "      <td>0</td>\n",
       "    </tr>\n",
       "    <tr>\n",
       "      <th>2</th>\n",
       "      <td>5</td>\n",
       "      <td>5</td>\n",
       "      <td>9800000</td>\n",
       "      <td>24200000</td>\n",
       "      <td>20</td>\n",
       "      <td>382</td>\n",
       "      <td>12400000</td>\n",
       "      <td>8200000</td>\n",
       "      <td>29400000</td>\n",
       "      <td>5000000</td>\n",
       "      <td>0</td>\n",
       "      <td>1</td>\n",
       "      <td>0</td>\n",
       "    </tr>\n",
       "    <tr>\n",
       "      <th>3</th>\n",
       "      <td>6</td>\n",
       "      <td>0</td>\n",
       "      <td>4800000</td>\n",
       "      <td>13500000</td>\n",
       "      <td>10</td>\n",
       "      <td>319</td>\n",
       "      <td>6800000</td>\n",
       "      <td>8300000</td>\n",
       "      <td>13700000</td>\n",
       "      <td>5100000</td>\n",
       "      <td>1</td>\n",
       "      <td>1</td>\n",
       "      <td>0</td>\n",
       "    </tr>\n",
       "    <tr>\n",
       "      <th>4</th>\n",
       "      <td>7</td>\n",
       "      <td>5</td>\n",
       "      <td>8700000</td>\n",
       "      <td>33000000</td>\n",
       "      <td>4</td>\n",
       "      <td>678</td>\n",
       "      <td>22500000</td>\n",
       "      <td>14800000</td>\n",
       "      <td>29200000</td>\n",
       "      <td>4300000</td>\n",
       "      <td>1</td>\n",
       "      <td>0</td>\n",
       "      <td>1</td>\n",
       "    </tr>\n",
       "    <tr>\n",
       "      <th>...</th>\n",
       "      <td>...</td>\n",
       "      <td>...</td>\n",
       "      <td>...</td>\n",
       "      <td>...</td>\n",
       "      <td>...</td>\n",
       "      <td>...</td>\n",
       "      <td>...</td>\n",
       "      <td>...</td>\n",
       "      <td>...</td>\n",
       "      <td>...</td>\n",
       "      <td>...</td>\n",
       "      <td>...</td>\n",
       "      <td>...</td>\n",
       "    </tr>\n",
       "    <tr>\n",
       "      <th>4261</th>\n",
       "      <td>4265</td>\n",
       "      <td>5</td>\n",
       "      <td>1000000</td>\n",
       "      <td>2300000</td>\n",
       "      <td>12</td>\n",
       "      <td>317</td>\n",
       "      <td>2800000</td>\n",
       "      <td>500000</td>\n",
       "      <td>3300000</td>\n",
       "      <td>800000</td>\n",
       "      <td>1</td>\n",
       "      <td>1</td>\n",
       "      <td>0</td>\n",
       "    </tr>\n",
       "    <tr>\n",
       "      <th>4262</th>\n",
       "      <td>4266</td>\n",
       "      <td>0</td>\n",
       "      <td>3300000</td>\n",
       "      <td>11300000</td>\n",
       "      <td>20</td>\n",
       "      <td>559</td>\n",
       "      <td>4200000</td>\n",
       "      <td>2900000</td>\n",
       "      <td>11000000</td>\n",
       "      <td>1900000</td>\n",
       "      <td>0</td>\n",
       "      <td>1</td>\n",
       "      <td>1</td>\n",
       "    </tr>\n",
       "    <tr>\n",
       "      <th>4263</th>\n",
       "      <td>4267</td>\n",
       "      <td>2</td>\n",
       "      <td>6500000</td>\n",
       "      <td>23900000</td>\n",
       "      <td>18</td>\n",
       "      <td>457</td>\n",
       "      <td>1200000</td>\n",
       "      <td>12400000</td>\n",
       "      <td>18100000</td>\n",
       "      <td>7300000</td>\n",
       "      <td>0</td>\n",
       "      <td>0</td>\n",
       "      <td>0</td>\n",
       "    </tr>\n",
       "    <tr>\n",
       "      <th>4264</th>\n",
       "      <td>4268</td>\n",
       "      <td>1</td>\n",
       "      <td>4100000</td>\n",
       "      <td>12800000</td>\n",
       "      <td>8</td>\n",
       "      <td>780</td>\n",
       "      <td>8200000</td>\n",
       "      <td>700000</td>\n",
       "      <td>14100000</td>\n",
       "      <td>5800000</td>\n",
       "      <td>0</td>\n",
       "      <td>0</td>\n",
       "      <td>1</td>\n",
       "    </tr>\n",
       "    <tr>\n",
       "      <th>4265</th>\n",
       "      <td>4269</td>\n",
       "      <td>1</td>\n",
       "      <td>9200000</td>\n",
       "      <td>29700000</td>\n",
       "      <td>10</td>\n",
       "      <td>607</td>\n",
       "      <td>17800000</td>\n",
       "      <td>11800000</td>\n",
       "      <td>35700000</td>\n",
       "      <td>12000000</td>\n",
       "      <td>1</td>\n",
       "      <td>0</td>\n",
       "      <td>1</td>\n",
       "    </tr>\n",
       "  </tbody>\n",
       "</table>\n",
       "<p>4233 rows × 13 columns</p>\n",
       "</div>"
      ],
      "text/plain": [
       "      loan_id  no_of_dependents  income_annum  loan_amount  loan_term  \\\n",
       "0          16                 5       4700000     10700000         10   \n",
       "1           4                 3       8200000     30700000          8   \n",
       "2           5                 5       9800000     24200000         20   \n",
       "3           6                 0       4800000     13500000         10   \n",
       "4           7                 5       8700000     33000000          4   \n",
       "...       ...               ...           ...          ...        ...   \n",
       "4261     4265                 5       1000000      2300000         12   \n",
       "4262     4266                 0       3300000     11300000         20   \n",
       "4263     4267                 2       6500000     23900000         18   \n",
       "4264     4268                 1       4100000     12800000          8   \n",
       "4265     4269                 1       9200000     29700000         10   \n",
       "\n",
       "      cibil_score  residential_assets_value  commercial_assets_value  \\\n",
       "0             794                   5700000                  3900000   \n",
       "1             467                  18200000                  3300000   \n",
       "2             382                  12400000                  8200000   \n",
       "3             319                   6800000                  8300000   \n",
       "4             678                  22500000                 14800000   \n",
       "...           ...                       ...                      ...   \n",
       "4261          317                   2800000                   500000   \n",
       "4262          559                   4200000                  2900000   \n",
       "4263          457                   1200000                 12400000   \n",
       "4264          780                   8200000                   700000   \n",
       "4265          607                  17800000                 11800000   \n",
       "\n",
       "      luxury_assets_value  bank_asset_value  education_enocoded  \\\n",
       "0                16400000           4400000                   0   \n",
       "1                23300000           7900000                   1   \n",
       "2                29400000           5000000                   0   \n",
       "3                13700000           5100000                   1   \n",
       "4                29200000           4300000                   1   \n",
       "...                   ...               ...                 ...   \n",
       "4261              3300000            800000                   1   \n",
       "4262             11000000           1900000                   0   \n",
       "4263             18100000           7300000                   0   \n",
       "4264             14100000           5800000                   0   \n",
       "4265             35700000          12000000                   1   \n",
       "\n",
       "      self_employed_encoded  loan_status_encoded  \n",
       "0                         0                    1  \n",
       "1                         0                    0  \n",
       "2                         1                    0  \n",
       "3                         1                    0  \n",
       "4                         0                    1  \n",
       "...                     ...                  ...  \n",
       "4261                      1                    0  \n",
       "4262                      1                    1  \n",
       "4263                      0                    0  \n",
       "4264                      0                    1  \n",
       "4265                      0                    1  \n",
       "\n",
       "[4233 rows x 13 columns]"
      ]
     },
     "execution_count": 85,
     "metadata": {},
     "output_type": "execute_result"
    }
   ],
   "source": [
    "df"
   ]
  },
  {
   "cell_type": "markdown",
   "id": "722dd986",
   "metadata": {},
   "source": [
    "## Checking the info of the data "
   ]
  },
  {
   "cell_type": "code",
   "execution_count": 5,
   "id": "450f0571",
   "metadata": {
    "scrolled": true
   },
   "outputs": [
    {
     "name": "stdout",
     "output_type": "stream",
     "text": [
      "<class 'pandas.core.frame.DataFrame'>\n",
      "RangeIndex: 4266 entries, 0 to 4265\n",
      "Data columns (total 13 columns):\n",
      " #   Column                    Non-Null Count  Dtype \n",
      "---  ------                    --------------  ----- \n",
      " 0   loan_id                   4266 non-null   int64 \n",
      " 1   no_of_dependents          4266 non-null   int64 \n",
      " 2   education                 4266 non-null   object\n",
      " 3   self_employed             4266 non-null   object\n",
      " 4   income_annum              4266 non-null   int64 \n",
      " 5   loan_amount               4266 non-null   int64 \n",
      " 6   loan_term                 4266 non-null   int64 \n",
      " 7   cibil_score               4266 non-null   int64 \n",
      " 8   residential_assets_value  4266 non-null   int64 \n",
      " 9   commercial_assets_value   4266 non-null   int64 \n",
      " 10  luxury_assets_value       4266 non-null   int64 \n",
      " 11  bank_asset_value          4266 non-null   int64 \n",
      " 12  loan_status               4266 non-null   object\n",
      "dtypes: int64(10), object(3)\n",
      "memory usage: 433.4+ KB\n"
     ]
    }
   ],
   "source": [
    "df.info()"
   ]
  },
  {
   "cell_type": "markdown",
   "id": "71808c79",
   "metadata": {},
   "source": [
    "## Checking for null values of the dataset"
   ]
  },
  {
   "cell_type": "code",
   "execution_count": 6,
   "id": "8782854c",
   "metadata": {},
   "outputs": [
    {
     "data": {
      "text/plain": [
       "loan_id                     0\n",
       "no_of_dependents            0\n",
       "education                   0\n",
       "self_employed               0\n",
       "income_annum                0\n",
       "loan_amount                 0\n",
       "loan_term                   0\n",
       "cibil_score                 0\n",
       "residential_assets_value    0\n",
       "commercial_assets_value     0\n",
       "luxury_assets_value         0\n",
       "bank_asset_value            0\n",
       "loan_status                 0\n",
       "dtype: int64"
      ]
     },
     "execution_count": 6,
     "metadata": {},
     "output_type": "execute_result"
    }
   ],
   "source": [
    "df.isnull().sum()"
   ]
  },
  {
   "cell_type": "markdown",
   "id": "cca2562d",
   "metadata": {},
   "source": [
    "# Exploratory Data Analysis"
   ]
  },
  {
   "cell_type": "markdown",
   "id": "3f1945d0",
   "metadata": {},
   "source": [
    "## Countplot of the target feature Loan Status "
   ]
  },
  {
   "cell_type": "code",
   "execution_count": 7,
   "id": "42c86b12",
   "metadata": {},
   "outputs": [
    {
     "data": {
      "image/png": "[encoded data removed]",
      "text/plain": [
       "<Figure size 576x432 with 1 Axes>"
      ]
     },
     "metadata": {
      "needs_background": "light"
     },
     "output_type": "display_data"
    }
   ],
   "source": [
    "plt.figure(figsize=(8, 6))\n",
    "sns.set_style(\"whitegrid\")\n",
    "sns.countplot(x = \"loan_status\",data = df)\n",
    "plt.xlabel('Loan Status')\n",
    "plt.ylabel('Count')\n",
    "plt.title('Distribution of Loan Status')\n",
    "plt.xticks(ticks=[0, 1], labels=['Not Approved', 'Approved'])\n",
    "plt.show()"
   ]
  },
  {
   "cell_type": "code",
   "execution_count": 8,
   "id": "9886715c",
   "metadata": {},
   "outputs": [
    {
     "data": {
      "text/plain": [
       " Approved    2655\n",
       " Rejected    1611\n",
       "Name: loan_status, dtype: int64"
      ]
     },
     "execution_count": 8,
     "metadata": {},
     "output_type": "execute_result"
    }
   ],
   "source": [
    "df['loan_status'].value_counts()"
   ]
  },
  {
   "cell_type": "markdown",
   "id": "cd96fa38",
   "metadata": {},
   "source": [
    "## Inferences on the distribution of classes in target feature\n",
    "\n",
    "From the observation above we can see that the classes of the target variable are imbalanced. The class \"Approved\" consists of 2656 samples and class \"Rejected\" consists of 1613 samples. The class balance of the target feature is crucial in machine learning as it directly impacts the model's performance and the reliability of its predictions.\n",
    "\n",
    "## Problems associated with respect to class imbalance \n",
    " \n",
    "Model tends to perform better only on the class with majority number of samples, while it struggles to predict the class with fewer samples. An imbalanced class distribution, where one class has significantly more samples than the other, can lead to biased model outcomes. "
   ]
  },
  {
   "cell_type": "markdown",
   "id": "913174ff",
   "metadata": {},
   "source": [
    "# Visualizing loan amount with respect to status using boxplot"
   ]
  },
  {
   "cell_type": "code",
   "execution_count": 9,
   "id": "e244cd54",
   "metadata": {},
   "outputs": [
    {
     "data": {
      "image/png": "[encoded data removed]",
      "text/plain": [
       "<Figure size 576x432 with 1 Axes>"
      ]
     },
     "metadata": {},
     "output_type": "display_data"
    }
   ],
   "source": [
    "plt.figure(figsize=(8, 6))\n",
    "sns.boxplot(x='loan_status', y='loan_amount', data=df, palette='cool')\n",
    "plt.xlabel('Loan Status')\n",
    "plt.ylabel('Loan Amount')\n",
    "plt.title('Loan Amount Distribution by Loan Status')\n",
    "plt.show()"
   ]
  },
  {
   "cell_type": "markdown",
   "id": "c4e33e6f",
   "metadata": {},
   "source": [
    "## Inferences on the above boxplot\n",
    "\n",
    "From the above boxplot we are trying to understand the relation between the loan amount and loan status. We cal clearly observe  that median value of both classes \"Approved\" and \"Rejected' is mostly same. But there are diffrences with respect to the minimum third quartile and maximum values. The \"Approved\" class has loan amount relatively higher that that for class \"Rejected\". "
   ]
  },
  {
   "cell_type": "markdown",
   "id": "5cb6980c",
   "metadata": {},
   "source": [
    "## Count plot of Loan status with repect to education"
   ]
  },
  {
   "cell_type": "code",
   "execution_count": 10,
   "id": "9c859903",
   "metadata": {},
   "outputs": [
    {
     "data": {
      "image/png": "[encoded data removed]",
      "text/plain": [
       "<Figure size 576x432 with 1 Axes>"
      ]
     },
     "metadata": {},
     "output_type": "display_data"
    }
   ],
   "source": [
    "plt.figure(figsize=(8, 6))\n",
    "sns.countplot(x='education', hue='loan_status', data=df, palette='winter')\n",
    "plt.xlabel('Education')\n",
    "plt.ylabel('Count')\n",
    "plt.title('Distribution of Loan Status by Education')\n",
    "plt.legend(title='Loan Status', labels=['Not Approved', 'Approved'])\n",
    "plt.show()"
   ]
  },
  {
   "cell_type": "markdown",
   "id": "a0734a53",
   "metadata": {},
   "source": [
    "## Inferences on the above countplot\n",
    "\n",
    "Analyzing the countplot reveals an interesting insight: the distribution of the 'Approved' class remains consistent for both 'Graduate' and 'NotGraduate' applicants. However, a notable distinction emerges in the count of 'Not Approved' instances. It's evident that the count of 'Not Approved' instances is noticeably higher for 'Graduate' applications in comparison to the count for 'Not Graduate' applications.\""
   ]
  },
  {
   "cell_type": "markdown",
   "id": "429e6b8e",
   "metadata": {},
   "source": [
    "## Visualizing Loan Status with respect to Self Employed"
   ]
  },
  {
   "cell_type": "code",
   "execution_count": 11,
   "id": "d4536c09",
   "metadata": {},
   "outputs": [
    {
     "data": {
      "image/png": "[encoded data removed]",
      "text/plain": [
       "<Figure size 576x432 with 1 Axes>"
      ]
     },
     "metadata": {},
     "output_type": "display_data"
    }
   ],
   "source": [
    "plt.figure(figsize=(8, 6))\n",
    "sns.countplot(x='self_employed', hue='loan_status', data=df, palette='winter')\n",
    "plt.xlabel('Self Employed')\n",
    "plt.ylabel('Count')\n",
    "plt.title('Distribution of Loan Status by Self Employment')\n",
    "plt.legend(title='Loan Status', labels=['Not Approved', 'Approved'])\n",
    "plt.show()"
   ]
  },
  {
   "cell_type": "markdown",
   "id": "bad65086",
   "metadata": {},
   "source": [
    "## Inferences on the above count plot\n",
    "\n",
    "The count plot above provides valuable insights into the relationship between Loan Status and the 'SelfEmployed' feature. This analysis helps us undestand the influence of an applicant's self-employment status on their loan approval. Interestingly, regardless of whether an applicant is self-employed or not, we observe an almost equal count of 'Approved' instances. However, an  pattern emerges when we examine loan rejections. We notice a slightly higher count of rejections among applicants who are self-employed. This suggests that the 'SelfEmployed' status might play a subtle role in loan rejection, warranting further investigation.\""
   ]
  },
  {
   "cell_type": "markdown",
   "id": "db72cbc8",
   "metadata": {},
   "source": [
    "# Histogram of Annual Income of the applicants"
   ]
  },
  {
   "cell_type": "code",
   "execution_count": 12,
   "id": "a74fc9d4",
   "metadata": {},
   "outputs": [
    {
     "data": {
      "image/png": "[encoded data removed]",
      "text/plain": [
       "<Figure size 720x432 with 1 Axes>"
      ]
     },
     "metadata": {},
     "output_type": "display_data"
    }
   ],
   "source": [
    "plt.figure(figsize=(10, 6))\n",
    "sns.histplot(data=df, x='income_annum', bins=20, kde=True, color='blue')\n",
    "plt.xlabel('Annual Income')\n",
    "plt.ylabel('Count')\n",
    "plt.title('Distribution of Annual Income')\n",
    "plt.show()"
   ]
  },
  {
   "cell_type": "markdown",
   "id": "087652b3",
   "metadata": {},
   "source": [
    "# Inferences on the above histogram\n",
    "\n",
    "The histogram of the 'income_amount' column shows a distribution that is neither strongly right-skewed nor left-skewed. It appears to be relatively symmetrical with a spread of observations across a wide range of income amounts. The histogram indicates that there is no dominant trend of incomes being clustered in a specific range."
   ]
  },
  {
   "cell_type": "markdown",
   "id": "07e1ef4e",
   "metadata": {},
   "source": [
    "# Visualizing Loan Status with respect to Annual Income"
   ]
  },
  {
   "cell_type": "code",
   "execution_count": 13,
   "id": "71ebedf5",
   "metadata": {},
   "outputs": [
    {
     "data": {
      "image/png": "[encoded data removed]",
      "text/plain": [
       "<Figure size 576x432 with 1 Axes>"
      ]
     },
     "metadata": {},
     "output_type": "display_data"
    }
   ],
   "source": [
    "plt.figure(figsize=(8, 6))\n",
    "sns.boxplot(x='loan_status', y='income_annum', data=df, palette='winter')\n",
    "plt.xlabel('Loan Status')\n",
    "plt.ylabel('Annual Income')\n",
    "plt.title('Annual Income Distribution by Loan Status')\n",
    "plt.show()"
   ]
  },
  {
   "cell_type": "markdown",
   "id": "078d4a4d",
   "metadata": {},
   "source": [
    "## Visualizing the cibil score"
   ]
  },
  {
   "cell_type": "code",
   "execution_count": 14,
   "id": "c5943d29",
   "metadata": {},
   "outputs": [
    {
     "data": {
      "image/png": "[encoded data removed]",
      "text/plain": [
       "<Figure size 720x432 with 1 Axes>"
      ]
     },
     "metadata": {},
     "output_type": "display_data"
    }
   ],
   "source": [
    "plt.figure(figsize=(10, 6))\n",
    "sns.histplot(data=df, x='cibil_score', bins=20, kde=True, color='orange')\n",
    "plt.xlabel('CIBIL Score')\n",
    "plt.ylabel('Count')\n",
    "plt.title('Distribution of Loan Status by CIBIL Score')\n",
    "plt.show()"
   ]
  },
  {
   "cell_type": "markdown",
   "id": "40b55933",
   "metadata": {},
   "source": [
    "# Visualizing Cibil Score with respect to Loan Status"
   ]
  },
  {
   "cell_type": "code",
   "execution_count": 15,
   "id": "5be3c390",
   "metadata": {},
   "outputs": [
    {
     "data": {
      "image/png": "[encoded data removed]",
      "text/plain": [
       "<Figure size 576x432 with 1 Axes>"
      ]
     },
     "metadata": {},
     "output_type": "display_data"
    }
   ],
   "source": [
    "plt.figure(figsize=(8, 6))\n",
    "sns.boxplot(x='loan_status', y='cibil_score', data=df, palette='winter')\n",
    "plt.xlabel('Loan Status')\n",
    "plt.ylabel('CIBIL Score')\n",
    "plt.title('CIBIL Score Distribution by Loan Status')\n",
    "plt.show()"
   ]
  },
  {
   "cell_type": "markdown",
   "id": "c2f5e719",
   "metadata": {},
   "source": [
    "# Inferences on the above boxplot\n",
    "\n",
    "The boxplot a representation makes it quite evident that applicants with lower CIBIL scores are more likely to have their loan applications denied. For those who get approved, the median CIBIL score is around 720, whereas for those who are rejected, it is closer to 430. Notably, there are outliers above the upper whisker within the rejected group, showing a few individuals with high CIBIL scores, up to 900, yet falling under the rejected category. This implies that although if higher CIBIL scores tend to correlate with increased acceptance probability, other factors may still cause some outliers to be rejected in spite of their favorable scores."
   ]
  },
  {
   "cell_type": "markdown",
   "id": "9666906d",
   "metadata": {},
   "source": [
    "# Encoding the string categorical columns\n",
    "\n",
    "For us to be able to consider the predictors/estimators and for the model to be able to interpret the independent features and study the patterns and relationships the data has to be numerical. Our data has columns like education, self_employed which are categorical string variables that we are encoding to categorical numeric features. Moreover, our target feature is also originally a string categorical variable, so we are encoding the dependent variable \"loan_status\" ."
   ]
  },
  {
   "cell_type": "code",
   "execution_count": 16,
   "id": "d73bd54a",
   "metadata": {},
   "outputs": [],
   "source": [
    "import pandas as pd\n",
    "df['education_enocoded'] = df['education'].map({' Graduate': 1, ' Not Graduate': 0})\n",
    "df['self_employed_encoded'] = df['self_employed'].map({' No':0, ' Yes':1})\n",
    "df['loan_status_encoded'] = df['loan_status'].map({' Approved': 1, ' Rejected': 0})"
   ]
  },
  {
   "cell_type": "markdown",
   "id": "b653b09d",
   "metadata": {},
   "source": [
    "## Dropping the original string columns"
   ]
  },
  {
   "cell_type": "code",
   "execution_count": 17,
   "id": "6385e999",
   "metadata": {},
   "outputs": [],
   "source": [
    "df.drop('loan_status', axis=1, inplace=True)\n",
    "df.drop('education', axis=1, inplace=True)\n",
    "df.drop('self_employed', axis=1, inplace=True)"
   ]
  },
  {
   "cell_type": "markdown",
   "id": "46d081ae",
   "metadata": {},
   "source": [
    "## Using Zscores to remove outliers (threshold = -3 to +3)"
   ]
  },
  {
   "cell_type": "code",
   "execution_count": 18,
   "id": "10cbf4d6",
   "metadata": {},
   "outputs": [],
   "source": [
    "import pandas as pd\n",
    "from scipy import stats\n",
    "\n",
    "# Getting only the numeric columns from the DataFrame\n",
    "numeric_columns = df.select_dtypes(include='number')\n",
    "\n",
    "# Calculating Z-scores for each numeric column\n",
    "z_scores = stats.zscore(numeric_columns)\n",
    "\n",
    "# Finding rows with Z-score greater than 3 or less than -3\n",
    "outlier_rows = (abs(z_scores) > 3).any(axis=1) | (abs(z_scores) < -3).any(axis=1)\n",
    "\n",
    "# Removing outlier rows from the DataFrame in place\n",
    "df = df[~outlier_rows]"
   ]
  },
  {
   "cell_type": "markdown",
   "id": "27cce913",
   "metadata": {},
   "source": [
    "## Inferences Outlier\n",
    "\n",
    "\n",
    "In a normal distribution, approximately 99.7% of the data falls within the range of -3 to +3 standard deviations from the mean. Outliers beyond this range are often considered extreme and less likely to occur under normal circumstances.By considering a range of -3 to +3, you can exclude extreme values that are likely to distort your analysis while retaining most of the data for analysis. Limiting the removal to the -3 to +3 range helps balance data integrity and outlier removal."
   ]
  },
  {
   "cell_type": "markdown",
   "id": "c81f362c",
   "metadata": {},
   "source": [
    "## Total Number of Outliers Removed"
   ]
  },
  {
   "cell_type": "code",
   "execution_count": 19,
   "id": "eda7539e",
   "metadata": {},
   "outputs": [
    {
     "name": "stdout",
     "output_type": "stream",
     "text": [
      "Number of outliers removed: 33\n"
     ]
    }
   ],
   "source": [
    "num_outliers_removed = outlier_rows.sum()\n",
    "print(\"Number of outliers removed:\", num_outliers_removed)"
   ]
  },
  {
   "cell_type": "markdown",
   "id": "fe524cc6",
   "metadata": {},
   "source": [
    "## Correaltion "
   ]
  },
  {
   "cell_type": "code",
   "execution_count": 20,
   "id": "225c91b6",
   "metadata": {},
   "outputs": [
    {
     "data": {
      "text/plain": [
       "loan_id                     0.015595\n",
       "no_of_dependents           -0.017309\n",
       "income_annum               -0.015032\n",
       "loan_amount                 0.016392\n",
       "loan_term                  -0.114370\n",
       "cibil_score                 0.770469\n",
       "residential_assets_value   -0.018145\n",
       "commercial_assets_value     0.010151\n",
       "luxury_assets_value        -0.013195\n",
       "bank_asset_value           -0.006611\n",
       "education_enocoded          0.003993\n",
       "self_employed_encoded       0.001805\n",
       "loan_status_encoded         1.000000\n",
       "Name: loan_status_encoded, dtype: float64"
      ]
     },
     "execution_count": 20,
     "metadata": {},
     "output_type": "execute_result"
    }
   ],
   "source": [
    "df[['loan_id', 'no_of_dependents', 'income_annum', 'loan_amount',\n",
    "       'loan_term', 'cibil_score', 'residential_assets_value',\n",
    "       'commercial_assets_value', 'luxury_assets_value', 'bank_asset_value',\n",
    "       'education_enocoded', 'self_employed_encoded', 'loan_status_encoded']].corr()['loan_status_encoded']"
   ]
  },
  {
   "cell_type": "markdown",
   "id": "8f2425b5",
   "metadata": {},
   "source": [
    "## Inferences Correlations\n",
    "\n",
    "The correlation analysis reveals that a higher \"cibil_score\" is strongly correlated with approved loan status, indicating that applicants with better credit scores are more likely to get approved. Conversely, a longer \"loan_term\" is modestly associated with a slightly lower approval chance. "
   ]
  },
  {
   "cell_type": "markdown",
   "id": "5a6ce11a",
   "metadata": {},
   "source": [
    "## Splitting into Independent and Dependent Set"
   ]
  },
  {
   "cell_type": "code",
   "execution_count": 21,
   "id": "c724266f",
   "metadata": {},
   "outputs": [],
   "source": [
    "X = df.iloc[:,1:-1]\n",
    "y = df.iloc[:,-1]"
   ]
  },
  {
   "cell_type": "code",
   "execution_count": 22,
   "id": "15e2b94b",
   "metadata": {},
   "outputs": [
    {
     "data": {
      "text/html": [
       "<div>\n",
       "<style scoped>\n",
       "    .dataframe tbody tr th:only-of-type {\n",
       "        vertical-align: middle;\n",
       "    }\n",
       "\n",
       "    .dataframe tbody tr th {\n",
       "        vertical-align: top;\n",
       "    }\n",
       "\n",
       "    .dataframe thead th {\n",
       "        text-align: right;\n",
       "    }\n",
       "</style>\n",
       "<table border=\"1\" class=\"dataframe\">\n",
       "  <thead>\n",
       "    <tr style=\"text-align: right;\">\n",
       "      <th></th>\n",
       "      <th>no_of_dependents</th>\n",
       "      <th>income_annum</th>\n",
       "      <th>loan_amount</th>\n",
       "      <th>loan_term</th>\n",
       "      <th>cibil_score</th>\n",
       "      <th>residential_assets_value</th>\n",
       "      <th>commercial_assets_value</th>\n",
       "      <th>luxury_assets_value</th>\n",
       "      <th>bank_asset_value</th>\n",
       "      <th>education_enocoded</th>\n",
       "      <th>self_employed_encoded</th>\n",
       "    </tr>\n",
       "  </thead>\n",
       "  <tbody>\n",
       "    <tr>\n",
       "      <th>0</th>\n",
       "      <td>5</td>\n",
       "      <td>4700000</td>\n",
       "      <td>10700000</td>\n",
       "      <td>10</td>\n",
       "      <td>794</td>\n",
       "      <td>5700000</td>\n",
       "      <td>3900000</td>\n",
       "      <td>16400000</td>\n",
       "      <td>4400000</td>\n",
       "      <td>0</td>\n",
       "      <td>0</td>\n",
       "    </tr>\n",
       "    <tr>\n",
       "      <th>1</th>\n",
       "      <td>3</td>\n",
       "      <td>8200000</td>\n",
       "      <td>30700000</td>\n",
       "      <td>8</td>\n",
       "      <td>467</td>\n",
       "      <td>18200000</td>\n",
       "      <td>3300000</td>\n",
       "      <td>23300000</td>\n",
       "      <td>7900000</td>\n",
       "      <td>1</td>\n",
       "      <td>0</td>\n",
       "    </tr>\n",
       "    <tr>\n",
       "      <th>2</th>\n",
       "      <td>5</td>\n",
       "      <td>9800000</td>\n",
       "      <td>24200000</td>\n",
       "      <td>20</td>\n",
       "      <td>382</td>\n",
       "      <td>12400000</td>\n",
       "      <td>8200000</td>\n",
       "      <td>29400000</td>\n",
       "      <td>5000000</td>\n",
       "      <td>0</td>\n",
       "      <td>1</td>\n",
       "    </tr>\n",
       "    <tr>\n",
       "      <th>3</th>\n",
       "      <td>0</td>\n",
       "      <td>4800000</td>\n",
       "      <td>13500000</td>\n",
       "      <td>10</td>\n",
       "      <td>319</td>\n",
       "      <td>6800000</td>\n",
       "      <td>8300000</td>\n",
       "      <td>13700000</td>\n",
       "      <td>5100000</td>\n",
       "      <td>1</td>\n",
       "      <td>1</td>\n",
       "    </tr>\n",
       "    <tr>\n",
       "      <th>4</th>\n",
       "      <td>5</td>\n",
       "      <td>8700000</td>\n",
       "      <td>33000000</td>\n",
       "      <td>4</td>\n",
       "      <td>678</td>\n",
       "      <td>22500000</td>\n",
       "      <td>14800000</td>\n",
       "      <td>29200000</td>\n",
       "      <td>4300000</td>\n",
       "      <td>1</td>\n",
       "      <td>0</td>\n",
       "    </tr>\n",
       "  </tbody>\n",
       "</table>\n",
       "</div>"
      ],
      "text/plain": [
       "   no_of_dependents  income_annum  loan_amount  loan_term  cibil_score  \\\n",
       "0                 5       4700000     10700000         10          794   \n",
       "1                 3       8200000     30700000          8          467   \n",
       "2                 5       9800000     24200000         20          382   \n",
       "3                 0       4800000     13500000         10          319   \n",
       "4                 5       8700000     33000000          4          678   \n",
       "\n",
       "   residential_assets_value  commercial_assets_value  luxury_assets_value  \\\n",
       "0                   5700000                  3900000             16400000   \n",
       "1                  18200000                  3300000             23300000   \n",
       "2                  12400000                  8200000             29400000   \n",
       "3                   6800000                  8300000             13700000   \n",
       "4                  22500000                 14800000             29200000   \n",
       "\n",
       "   bank_asset_value  education_enocoded  self_employed_encoded  \n",
       "0           4400000                   0                      0  \n",
       "1           7900000                   1                      0  \n",
       "2           5000000                   0                      1  \n",
       "3           5100000                   1                      1  \n",
       "4           4300000                   1                      0  "
      ]
     },
     "execution_count": 22,
     "metadata": {},
     "output_type": "execute_result"
    }
   ],
   "source": [
    "X.head()"
   ]
  },
  {
   "cell_type": "code",
   "execution_count": 23,
   "id": "c87e0224",
   "metadata": {},
   "outputs": [
    {
     "data": {
      "text/plain": [
       "0    1\n",
       "1    0\n",
       "2    0\n",
       "3    0\n",
       "4    1\n",
       "Name: loan_status_encoded, dtype: int64"
      ]
     },
     "execution_count": 23,
     "metadata": {},
     "output_type": "execute_result"
    }
   ],
   "source": [
    "y.head()"
   ]
  },
  {
   "cell_type": "markdown",
   "id": "38fabe12",
   "metadata": {},
   "source": [
    "## Scaling the independent variable using Standard Scaler"
   ]
  },
  {
   "cell_type": "code",
   "execution_count": 24,
   "id": "aa06795c",
   "metadata": {},
   "outputs": [],
   "source": [
    "# Scaling the features using Min-Max scaling\n",
    "import pandas as pd\n",
    "from sklearn.preprocessing import StandardScaler\n",
    "scaler = StandardScaler()\n",
    "scaled_data = scaler.fit_transform(X)\n",
    "\n",
    "# Creating a new DataFrame with the scaled values\n",
    "X_scaled = pd.DataFrame(scaled_data, columns=X.columns)"
   ]
  },
  {
   "cell_type": "markdown",
   "id": "c2b05ac0",
   "metadata": {},
   "source": [
    "## Reasons to choose Standard Scaler\n",
    "\n",
    " By scaling the features to have zero mean and unit variance, you ensure that they are on the same scale, preventing one feature from dominating the others due to their different scales. This normalization aids algorithms like Random Forest, Gradient Boosting, and Neural Networks in making accurate predictions, as they rely on feature interactions and distances between data points. "
   ]
  },
  {
   "cell_type": "code",
   "execution_count": 25,
   "id": "a6589033",
   "metadata": {
    "scrolled": false
   },
   "outputs": [
    {
     "data": {
      "text/html": [
       "<div>\n",
       "<style scoped>\n",
       "    .dataframe tbody tr th:only-of-type {\n",
       "        vertical-align: middle;\n",
       "    }\n",
       "\n",
       "    .dataframe tbody tr th {\n",
       "        vertical-align: top;\n",
       "    }\n",
       "\n",
       "    .dataframe thead th {\n",
       "        text-align: right;\n",
       "    }\n",
       "</style>\n",
       "<table border=\"1\" class=\"dataframe\">\n",
       "  <thead>\n",
       "    <tr style=\"text-align: right;\">\n",
       "      <th></th>\n",
       "      <th>no_of_dependents</th>\n",
       "      <th>income_annum</th>\n",
       "      <th>loan_amount</th>\n",
       "      <th>loan_term</th>\n",
       "      <th>cibil_score</th>\n",
       "      <th>residential_assets_value</th>\n",
       "      <th>commercial_assets_value</th>\n",
       "      <th>luxury_assets_value</th>\n",
       "      <th>bank_asset_value</th>\n",
       "      <th>education_enocoded</th>\n",
       "      <th>self_employed_encoded</th>\n",
       "    </tr>\n",
       "  </thead>\n",
       "  <tbody>\n",
       "    <tr>\n",
       "      <th>0</th>\n",
       "      <td>1.475946</td>\n",
       "      <td>-0.115398</td>\n",
       "      <td>-0.480944</td>\n",
       "      <td>-0.156062</td>\n",
       "      <td>1.125566</td>\n",
       "      <td>-0.261873</td>\n",
       "      <td>-0.232909</td>\n",
       "      <td>0.151938</td>\n",
       "      <td>-0.167037</td>\n",
       "      <td>-1.006399</td>\n",
       "      <td>-1.007350</td>\n",
       "    </tr>\n",
       "    <tr>\n",
       "      <th>1</th>\n",
       "      <td>0.296137</td>\n",
       "      <td>1.140246</td>\n",
       "      <td>1.748020</td>\n",
       "      <td>-0.506333</td>\n",
       "      <td>-0.772217</td>\n",
       "      <td>1.702172</td>\n",
       "      <td>-0.372559</td>\n",
       "      <td>0.913931</td>\n",
       "      <td>0.917373</td>\n",
       "      <td>0.993642</td>\n",
       "      <td>-1.007350</td>\n",
       "    </tr>\n",
       "    <tr>\n",
       "      <th>2</th>\n",
       "      <td>1.475946</td>\n",
       "      <td>1.714254</td>\n",
       "      <td>1.023607</td>\n",
       "      <td>1.595292</td>\n",
       "      <td>-1.265525</td>\n",
       "      <td>0.790855</td>\n",
       "      <td>0.767914</td>\n",
       "      <td>1.587577</td>\n",
       "      <td>0.018862</td>\n",
       "      <td>-1.006399</td>\n",
       "      <td>0.992703</td>\n",
       "    </tr>\n",
       "    <tr>\n",
       "      <th>3</th>\n",
       "      <td>-1.473577</td>\n",
       "      <td>-0.079523</td>\n",
       "      <td>-0.168889</td>\n",
       "      <td>-0.156062</td>\n",
       "      <td>-1.631153</td>\n",
       "      <td>-0.089037</td>\n",
       "      <td>0.791189</td>\n",
       "      <td>-0.146233</td>\n",
       "      <td>0.049845</td>\n",
       "      <td>0.993642</td>\n",
       "      <td>0.992703</td>\n",
       "    </tr>\n",
       "    <tr>\n",
       "      <th>4</th>\n",
       "      <td>1.475946</td>\n",
       "      <td>1.319623</td>\n",
       "      <td>2.004350</td>\n",
       "      <td>-1.206874</td>\n",
       "      <td>0.452346</td>\n",
       "      <td>2.377804</td>\n",
       "      <td>2.304060</td>\n",
       "      <td>1.565491</td>\n",
       "      <td>-0.198020</td>\n",
       "      <td>0.993642</td>\n",
       "      <td>-1.007350</td>\n",
       "    </tr>\n",
       "    <tr>\n",
       "      <th>...</th>\n",
       "      <td>...</td>\n",
       "      <td>...</td>\n",
       "      <td>...</td>\n",
       "      <td>...</td>\n",
       "      <td>...</td>\n",
       "      <td>...</td>\n",
       "      <td>...</td>\n",
       "      <td>...</td>\n",
       "      <td>...</td>\n",
       "      <td>...</td>\n",
       "      <td>...</td>\n",
       "    </tr>\n",
       "    <tr>\n",
       "      <th>4228</th>\n",
       "      <td>1.475946</td>\n",
       "      <td>-1.442794</td>\n",
       "      <td>-1.417108</td>\n",
       "      <td>0.194209</td>\n",
       "      <td>-1.642760</td>\n",
       "      <td>-0.717531</td>\n",
       "      <td>-1.024257</td>\n",
       "      <td>-1.294744</td>\n",
       "      <td>-1.282429</td>\n",
       "      <td>0.993642</td>\n",
       "      <td>0.992703</td>\n",
       "    </tr>\n",
       "    <tr>\n",
       "      <th>4229</th>\n",
       "      <td>-1.473577</td>\n",
       "      <td>-0.617656</td>\n",
       "      <td>-0.414075</td>\n",
       "      <td>1.595292</td>\n",
       "      <td>-0.238284</td>\n",
       "      <td>-0.497558</td>\n",
       "      <td>-0.465658</td>\n",
       "      <td>-0.444404</td>\n",
       "      <td>-0.941615</td>\n",
       "      <td>-1.006399</td>\n",
       "      <td>0.992703</td>\n",
       "    </tr>\n",
       "    <tr>\n",
       "      <th>4230</th>\n",
       "      <td>-0.293768</td>\n",
       "      <td>0.530361</td>\n",
       "      <td>0.990172</td>\n",
       "      <td>1.245021</td>\n",
       "      <td>-0.830254</td>\n",
       "      <td>-0.968929</td>\n",
       "      <td>1.745462</td>\n",
       "      <td>0.339676</td>\n",
       "      <td>0.731474</td>\n",
       "      <td>-1.006399</td>\n",
       "      <td>-1.007350</td>\n",
       "    </tr>\n",
       "    <tr>\n",
       "      <th>4231</th>\n",
       "      <td>-0.883672</td>\n",
       "      <td>-0.330652</td>\n",
       "      <td>-0.246903</td>\n",
       "      <td>-0.506333</td>\n",
       "      <td>1.044316</td>\n",
       "      <td>0.130936</td>\n",
       "      <td>-0.977707</td>\n",
       "      <td>-0.102059</td>\n",
       "      <td>0.266727</td>\n",
       "      <td>-1.006399</td>\n",
       "      <td>-1.007350</td>\n",
       "    </tr>\n",
       "    <tr>\n",
       "      <th>4232</th>\n",
       "      <td>-0.883672</td>\n",
       "      <td>1.499001</td>\n",
       "      <td>1.636571</td>\n",
       "      <td>-0.156062</td>\n",
       "      <td>0.040289</td>\n",
       "      <td>1.639323</td>\n",
       "      <td>1.605812</td>\n",
       "      <td>2.283310</td>\n",
       "      <td>2.187681</td>\n",
       "      <td>0.993642</td>\n",
       "      <td>-1.007350</td>\n",
       "    </tr>\n",
       "  </tbody>\n",
       "</table>\n",
       "<p>4233 rows × 11 columns</p>\n",
       "</div>"
      ],
      "text/plain": [
       "      no_of_dependents  income_annum  loan_amount  loan_term  cibil_score  \\\n",
       "0             1.475946     -0.115398    -0.480944  -0.156062     1.125566   \n",
       "1             0.296137      1.140246     1.748020  -0.506333    -0.772217   \n",
       "2             1.475946      1.714254     1.023607   1.595292    -1.265525   \n",
       "3            -1.473577     -0.079523    -0.168889  -0.156062    -1.631153   \n",
       "4             1.475946      1.319623     2.004350  -1.206874     0.452346   \n",
       "...                ...           ...          ...        ...          ...   \n",
       "4228          1.475946     -1.442794    -1.417108   0.194209    -1.642760   \n",
       "4229         -1.473577     -0.617656    -0.414075   1.595292    -0.238284   \n",
       "4230         -0.293768      0.530361     0.990172   1.245021    -0.830254   \n",
       "4231         -0.883672     -0.330652    -0.246903  -0.506333     1.044316   \n",
       "4232         -0.883672      1.499001     1.636571  -0.156062     0.040289   \n",
       "\n",
       "      residential_assets_value  commercial_assets_value  luxury_assets_value  \\\n",
       "0                    -0.261873                -0.232909             0.151938   \n",
       "1                     1.702172                -0.372559             0.913931   \n",
       "2                     0.790855                 0.767914             1.587577   \n",
       "3                    -0.089037                 0.791189            -0.146233   \n",
       "4                     2.377804                 2.304060             1.565491   \n",
       "...                        ...                      ...                  ...   \n",
       "4228                 -0.717531                -1.024257            -1.294744   \n",
       "4229                 -0.497558                -0.465658            -0.444404   \n",
       "4230                 -0.968929                 1.745462             0.339676   \n",
       "4231                  0.130936                -0.977707            -0.102059   \n",
       "4232                  1.639323                 1.605812             2.283310   \n",
       "\n",
       "      bank_asset_value  education_enocoded  self_employed_encoded  \n",
       "0            -0.167037           -1.006399              -1.007350  \n",
       "1             0.917373            0.993642              -1.007350  \n",
       "2             0.018862           -1.006399               0.992703  \n",
       "3             0.049845            0.993642               0.992703  \n",
       "4            -0.198020            0.993642              -1.007350  \n",
       "...                ...                 ...                    ...  \n",
       "4228         -1.282429            0.993642               0.992703  \n",
       "4229         -0.941615           -1.006399               0.992703  \n",
       "4230          0.731474           -1.006399              -1.007350  \n",
       "4231          0.266727           -1.006399              -1.007350  \n",
       "4232          2.187681            0.993642              -1.007350  \n",
       "\n",
       "[4233 rows x 11 columns]"
      ]
     },
     "execution_count": 25,
     "metadata": {},
     "output_type": "execute_result"
    }
   ],
   "source": [
    "X_scaled"
   ]
  },
  {
   "cell_type": "markdown",
   "id": "cf5fe9b9",
   "metadata": {},
   "source": [
    "## Train Test Split"
   ]
  },
  {
   "cell_type": "code",
   "execution_count": 26,
   "id": "154b7f3b",
   "metadata": {},
   "outputs": [],
   "source": [
    "X_train, X_test, y_train, y_test = train_test_split(X_scaled, y, test_size=0.2, random_state=42)"
   ]
  },
  {
   "cell_type": "markdown",
   "id": "6d7582fd",
   "metadata": {},
   "source": [
    "## Applying SMOTE to handle class Imbalance\n",
    "\n",
    "The importance of addressing class imbalance lies in ensuring that the model doesn't favor the majority class, leading to biased predictions and poor performance on the minority class. Imbalanced data can result in lower accuracy, precision, recall, and F1-score for the minority class, which is often the class of interest.SMOTE offers several benefits. Firstly, it enhances the generalization of the model, allowing it to make better predictions on unseen data. Secondly, it reduces the risk of false negatives and false positives, as the model is less likely to overlook the minority class. Thirdly, it improves the stability and reliability of the model's performance across different evaluation metrics. Additionally, SMOTE is relatively easy to implement and works well with a variety of machine learning algorithms."
   ]
  },
  {
   "cell_type": "code",
   "execution_count": 27,
   "id": "95d754d2",
   "metadata": {},
   "outputs": [],
   "source": [
    "smote = SMOTE(random_state=42)\n",
    "X_train_resampled, y_train_resampled = smote.fit_resample(X_train, y_train)"
   ]
  },
  {
   "cell_type": "markdown",
   "id": "545df17c",
   "metadata": {},
   "source": [
    "## Class Balance After SMOTE"
   ]
  },
  {
   "cell_type": "code",
   "execution_count": 28,
   "id": "bca7fadb",
   "metadata": {},
   "outputs": [
    {
     "data": {
      "image/png": "[encoded data removed]",
      "text/plain": [
       "<Figure size 432x288 with 1 Axes>"
      ]
     },
     "metadata": {},
     "output_type": "display_data"
    }
   ],
   "source": [
    "plt.subplot(1, 2, 2)\n",
    "sns.countplot(x=y_train_resampled) \n",
    "plt.title('Class Distribution After CSMOTE')\n",
    "plt.show()"
   ]
  },
  {
   "cell_type": "markdown",
   "id": "92dd5ba1",
   "metadata": {},
   "source": [
    "## Inferences after SMOTE\n",
    "\n",
    "From the above plot we can see that both the target classes are balanced after using SMOTE. This will now allow the model to learn the patterns correctly associated to each class and hence it will mitigate the problem of bias"
   ]
  },
  {
   "cell_type": "code",
   "execution_count": 29,
   "id": "444a32b0",
   "metadata": {},
   "outputs": [
    {
     "data": {
      "text/plain": [
       "0    2103\n",
       "1    2103\n",
       "Name: loan_status_encoded, dtype: int64"
      ]
     },
     "execution_count": 29,
     "metadata": {},
     "output_type": "execute_result"
    }
   ],
   "source": [
    "y_train_resampled.value_counts()"
   ]
  },
  {
   "cell_type": "markdown",
   "id": "3ed501ff",
   "metadata": {},
   "source": [
    "## Random Forest Using Best Parameters"
   ]
  },
  {
   "cell_type": "code",
   "execution_count": 30,
   "id": "2264a4b9",
   "metadata": {},
   "outputs": [
    {
     "name": "stdout",
     "output_type": "stream",
     "text": [
      "Top 5 features from Random Forest:\n",
      "Index(['cibil_score', 'loan_term', 'loan_amount', 'income_annum',\n",
      "       'luxury_assets_value'],\n",
      "      dtype='object')\n"
     ]
    },
    {
     "data": {
      "image/png": "[encoded data removed]",
      "text/plain": [
       "<Figure size 720x432 with 1 Axes>"
      ]
     },
     "metadata": {},
     "output_type": "display_data"
    }
   ],
   "source": [
    "from scipy.stats import randint\n",
    "from sklearn.model_selection import RandomizedSearchCV\n",
    "# Instantiating the Random Forest classifier\n",
    "classifier_rf = RandomForestClassifier(random_state=42)\n",
    "\n",
    "# Training the model to get feature importances\n",
    "classifier_rf.fit(X_train_resampled, y_train_resampled)\n",
    "\n",
    "# Getting feature importances\n",
    "feature_importances_rf = classifier_rf.feature_importances_\n",
    "\n",
    "# Identifiying top k important features\n",
    "k = 5\n",
    "top_k_features_rf = X_train_resampled.columns[np.argsort(feature_importances_rf)[::-1][:k]]\n",
    "\n",
    "print(\"Top {} features from Random Forest:\".format(k))\n",
    "print(top_k_features_rf)\n",
    "\n",
    "plt.figure(figsize=(10, 6))\n",
    "plt.barh(X_train_resampled.columns, feature_importances_rf)\n",
    "plt.xlabel('Feature Importance')\n",
    "plt.ylabel('Feature')\n",
    "plt.title('Feature Importances - Random Forest')\n",
    "plt.show()"
   ]
  },
  {
   "cell_type": "code",
   "execution_count": 31,
   "id": "cb39b627",
   "metadata": {},
   "outputs": [],
   "source": [
    "# Using only the top k features for training and testing\n",
    "X_train_selected_rf = X_train_resampled[top_k_features_rf]\n",
    "\n",
    "# Define hyperparameter grid for RandomizedSearchCV\n",
    "param_dist = {\n",
    "    'n_estimators': randint(50, 200),\n",
    "    'max_depth': [None] + list(range(5, 30)),\n",
    "    'min_samples_split': randint(2, 20),\n",
    "    'min_samples_leaf': randint(1, 20),\n",
    "    'bootstrap': [True, False],\n",
    "    'criterion': ['gini', 'entropy']\n",
    "}\n",
    "# Instantiating RandomizedSearchCV\n",
    "random_search = RandomizedSearchCV(classifier_rf, param_distributions=param_dist, n_iter=10, cv=5, random_state=42, n_jobs=-1)\n",
    "\n",
    "# Fitting RandomizedSearchCV on the selected features\n",
    "random_search.fit(X_train_selected_rf, y_train_resampled)\n",
    "\n",
    "# Getting the best model\n",
    "best_rf_model = random_search.best_estimator_\n",
    "\n",
    "# Making predictions on the test set using the best model\n",
    "X_test_selected_rf = X_test[top_k_features_rf]"
   ]
  },
  {
   "cell_type": "code",
   "execution_count": 32,
   "id": "7f82c98f",
   "metadata": {},
   "outputs": [
    {
     "name": "stdout",
     "output_type": "stream",
     "text": [
      "----------------------------------\n",
      "Best Parameters: {'bootstrap': False, 'criterion': 'entropy', 'max_depth': 28, 'min_samples_leaf': 3, 'min_samples_split': 6, 'n_estimators': 100}\n",
      "-----------------------------------\n",
      "Confusion Matrix \n",
      " [[311   4]\n",
      " [  9 523]]\n",
      "Model Accuracy: 0.9846517119244392\n",
      "Precsion 0.9924098671726755\n",
      "Recall 0.9830827067669173\n",
      "F1 Score 0.987724268177526\n",
      "---------------------------------------------------------------------------------------------------------------\n",
      "Cross Validation\n",
      "[0.99049881 0.96674584 0.97862233 0.97862233 0.97149644 0.97862233\n",
      " 0.99285714 0.99047619 0.98333333 0.9952381 ]\n",
      "----------------------------------------------------------------------------------------------------------------\n",
      "Average Cross Validation Score of RandomForest Model with best features  0.9826512837914262\n",
      "-----------------------------------------------------------------------------------------------------------------\n"
     ]
    }
   ],
   "source": [
    "y_pred_rf = best_rf_model.predict(X_test_selected_rf)\n",
    "\n",
    "\n",
    "# Calculating the accuracy of the model\n",
    "cm_rf = confusion_matrix(y_test,y_pred_rf)\n",
    "accuracy = accuracy_score(y_test, y_pred_rf)\n",
    "precision = precision_score(y_test, y_pred_rf)\n",
    "recall = recall_score(y_test, y_pred_rf)\n",
    "F1_Score = f1_score(y_test,y_pred_rf)\n",
    "\n",
    "print(\"----------------------------------\")\n",
    "best_params = random_search.best_params_\n",
    "\n",
    "\n",
    "print(\"Best Parameters:\", best_params)\n",
    "print(\"-----------------------------------\")\n",
    "print(\"Confusion Matrix \\n\",cm_rf)\n",
    "print(\"Model Accuracy:\", accuracy)\n",
    "print(\"Precsion\",precision)\n",
    "print(\"Recall\",recall)\n",
    "print(\"F1 Score\",F1_Score)\n",
    "\n",
    "print(\"---------------------------------------------------------------------------------------------------------------\")\n",
    "\n",
    "print(\"Cross Validation\")\n",
    "scores = cross_val_score(best_rf_model, X_train_selected_rf, y_train_resampled, cv=10, scoring='accuracy')\n",
    "print(scores)\n",
    "print(\"----------------------------------------------------------------------------------------------------------------\")\n",
    "print(\"Average Cross Validation Score of RandomForest Model with best features \",scores.mean())\n",
    "print(\"-----------------------------------------------------------------------------------------------------------------\")"
   ]
  },
  {
   "cell_type": "markdown",
   "id": "39b4e172",
   "metadata": {},
   "source": [
    "## My inferences on The Random Forest Classifier Model using Feature Importance and Randomized Search CV\n",
    "\n",
    "<b>Reason to Choose Random Forest</b>\n",
    "\n",
    "Random Forest was chosen due to its ability to handle complex relationships in the loan approval dataset, mitigating overfitting, and capturing important feature interactions. Its ensemble nature, combining multiple decision trees, makes it robust and well-suited for classification tasks like loan approval.\n",
    "\n",
    "<b>Feature Selection Using Random Forest:</b>\n",
    "\n",
    "Feature selection was performed using Random Forest's feature importances. The top 5 important features selected are 'cibil_score', 'loan_term', 'loan_amount', 'income_annum', and 'luxury_assets_value'. These features were deemed crucial for making accurate loan approval predictions.Each individual decision tree in the ensemble is built using a subset of the data and a random subset of features. When the trees are aggregated to make predictions, the algorithm calculates the importance of each feature based on how much it contributes to reducing impurity (Gini impurity) across all the trees.\n",
    "\n",
    "<b>Feature Importance Plot:</b>\n",
    "\n",
    "A feature importance plot was generated to visualize the impact of each feature on the model's prediction. This helped identify the relative significance of features in making accurate predictions.\n",
    "\n",
    "<b>Best Parameters for Randomized Search CV:</b>\n",
    "\n",
    "Randomized Search CV was used to find the best hyperparameters for the Random Forest model. The best parameters found were {'bootstrap': False, 'criterion': 'entropy', 'max_depth': 28, 'min_samples_leaf': 3, 'min_samples_split': 6, 'n_estimators': 100}.\n",
    "\n",
    "<b>Model Performance Metrics: </b>\n",
    "\n",
    "The model's performance was evaluated using various metrics. The confusion matrix showed that the model achieved high accuracy and balanced precision and recall. With an accuracy of 0.9847, the model accurately classified 98.47% of instances.\n",
    "\n",
    "<b>Cross Validation:</b>\n",
    "\n",
    "From the above cross validation scores on 10 folds we can clearly observe that the model is performing consitingly well on all the 10 folds. It means that the model has good generalization abilities and it is cabaple enogh of predicting the new instances accurately\n",
    "\n",
    "Cross-validation scores on 10 folds indicated consistent performance across different subsets of the data. The model demonstrated an average cross-validation score of 0.9827, indicating its reliability and stability.\n",
    "\n",
    "<b> Confusion Matrix </b>\n",
    "\n",
    "True Positive (TP): 523\n",
    "\n",
    "The model correctly predicted 523 instances as \"Approved\" loans.\n",
    "True Negative (TN): 311\n",
    "\n",
    "The model correctly predicted 311 instances as \"Rejected\" loans.\n",
    "False Positive (FP): 4\n",
    "\n",
    "The model incorrectly predicted 4 instances as \"Approved\" when they were actually \"Rejected\" loans.\n",
    "False Negative (FN): 9\n",
    "\n",
    "The model incorrectly predicted 9 instances as \"Rejected\" when they were actually \"Approved\" loans.\n",
    "\n",
    "<b> Precision </b>\n",
    "\n",
    "precision is calculated as TP / (TP + FP), which is 523 / (523 + 4) = 0.9924. This means that when the model predicts a loan as \"Approved,\" it is correct 99.24% of the time.\n",
    "\n",
    "<b> Recall </b>\n",
    "\n",
    "Recall is calculated as TP / (TP + FN), which is 523 / (523 + 9) = 0.9831. This means the model correctly identifies 98.31% of the \"Approved\" loans.\n",
    " \n",
    "<b> F1 SCore </b> \n",
    "\n",
    "F1 Score is calculated as 2 * (Precision * Recall) / (Precision + Recall). In this case, the F1 score is approximately 0.9877, indicating a good balance between precision and recall.\n",
    "\n",
    "<b> Conclusion:</b>\n",
    "The Random Forest model has proven effective in predicting loan approval decisions. Its feature selection, optimized hyperparameters, and strong performance metrics make it a reliable choice for this application. The model's ability to generalize well, as demonstrated by cross-validation, underscores its robustness in making accurate loan approval predictions"
   ]
  },
  {
   "cell_type": "markdown",
   "id": "c1e56636",
   "metadata": {},
   "source": [
    "## ROC Curve (Random Forest Classifier)"
   ]
  },
  {
   "cell_type": "code",
   "execution_count": 33,
   "id": "a4a41adb",
   "metadata": {},
   "outputs": [
    {
     "data": {
      "image/png": "[encoded data removed]",
      "text/plain": [
       "<Figure size 720x576 with 1 Axes>"
      ]
     },
     "metadata": {},
     "output_type": "display_data"
    }
   ],
   "source": [
    "from sklearn.metrics import roc_curve, roc_auc_score\n",
    "import matplotlib.pyplot as plt\n",
    "\n",
    "\n",
    "# Getting predicted probabilities for the positive class (class 1)\n",
    "y_pred_prob = best_rf_model.predict_proba(X_test_selected_rf)[:, 1]\n",
    "\n",
    "# Calculating ROC curve and AUC\n",
    "fpr, tpr, thresholds = roc_curve(y_test, y_pred_prob)\n",
    "roc_auc = roc_auc_score(y_test, y_pred_prob)\n",
    "\n",
    "# Creating a ROC curve plot\n",
    "plt.figure(figsize=(10, 8))\n",
    "plt.plot(fpr, tpr, color='orange', lw=2, label='ROC Curve (AUC = {:.2f})'.format(roc_auc))\n",
    "plt.plot([0,1],[0,1],color = \"blue\",linestyle =\"--\",label = \"Guessing\")\n",
    "plt.xlim([0.0, 1.0])\n",
    "plt.ylim([0.0, 1.05])\n",
    "plt.xlabel('False Positive Rate', fontsize=12)\n",
    "plt.ylabel('True Positive Rate', fontsize=12)\n",
    "plt.title('Receiver Operating Characteristic (ROC) Curve', fontsize=14)\n",
    "plt.legend(loc=\"lower right\", fontsize=12)\n",
    "plt.grid(True)\n",
    "plt.show()"
   ]
  },
  {
   "cell_type": "markdown",
   "id": "7e54ea79",
   "metadata": {},
   "source": [
    "# \"OptimizedGBM\" "
   ]
  },
  {
   "cell_type": "code",
   "execution_count": 34,
   "id": "fb3a8ac0",
   "metadata": {
    "scrolled": true
   },
   "outputs": [
    {
     "name": "stdout",
     "output_type": "stream",
     "text": [
      "Feature Importances from Gradient Boosting:\n",
      "[1.89803828e-04 6.37062109e-03 2.07548084e-02 5.86660232e-02\n",
      " 9.03922543e-01 5.51194705e-03 1.31661764e-03 1.05175534e-03\n",
      " 1.90934659e-03 1.08808646e-04 1.97725207e-04]\n",
      "-------------------------------------------------------------------------------------------------\n",
      "Top 5 features from Gradient Boosting:\n",
      "Index(['cibil_score', 'loan_term', 'loan_amount', 'income_annum',\n",
      "       'residential_assets_value'],\n",
      "      dtype='object')\n",
      "------------------------------------------------------------------------------------------------\n"
     ]
    },
    {
     "data": {
      "image/png": "[encoded data removed]",
      "text/plain": [
       "<Figure size 720x432 with 1 Axes>"
      ]
     },
     "metadata": {},
     "output_type": "display_data"
    }
   ],
   "source": [
    "# Instantiating the Gradient Boosting classifier\n",
    "gb_classifier = GradientBoostingClassifier(random_state=42)\n",
    "\n",
    "# Fitting the classifier on the training data\n",
    "gb_classifier.fit(X_train_resampled, y_train_resampled)\n",
    "\n",
    "# Getting the feature importances from Gradient Boosting\n",
    "feature_importances_gb = gb_classifier.feature_importances_\n",
    "\n",
    "# Printing the feature importances\n",
    "print(\"Feature Importances from Gradient Boosting:\")\n",
    "print(feature_importances_gb)\n",
    "print(\"-------------------------------------------------------------------------------------------------\")\n",
    "# Training the model using the top-k important features\n",
    "k = 5 \n",
    "top_k_features_gb = X_train_resampled.columns[np.argsort(feature_importances_gb)[::-1][:k]]\n",
    "\n",
    "print(\"Top {} features from Gradient Boosting:\".format(k))\n",
    "print(top_k_features_gb)\n",
    "print(\"------------------------------------------------------------------------------------------------\")\n",
    "\n",
    "plt.figure(figsize=(10, 6))\n",
    "plt.barh(X_train_resampled.columns, feature_importances_gb)\n",
    "plt.xlabel('Feature Importance')\n",
    "plt.ylabel('Feature')\n",
    "plt.title('Feature Importances - Gradient Boosting')\n",
    "plt.show()"
   ]
  },
  {
   "cell_type": "code",
   "execution_count": 35,
   "id": "75f2594b",
   "metadata": {},
   "outputs": [
    {
     "name": "stdout",
     "output_type": "stream",
     "text": [
      "[[313   2]\n",
      " [  8 524]]\n",
      "--------------------------------------------\n",
      "Best Estimators GradientBoostingClassifier(max_depth=5, min_samples_leaf=4,\n",
      "                           min_samples_split=10, n_estimators=150,\n",
      "                           random_state=42)\n",
      "Model Accuracy: 0.9881936245572609\n",
      "Precision 0.9961977186311787\n",
      "Recall 0.9849624060150376\n",
      "F1 Score 0.9905482041587901\n",
      "-------------------------------------------------------------------------------------------------------\n",
      "Cross val scores on folds \n",
      " [0.99524941 0.97624703 0.99049881 0.98099762 0.97862233 0.98099762\n",
      " 0.9952381  0.99285714 0.98809524 0.99047619]\n",
      "--------------------------------------------------------------------------------------------------------\n",
      "The average cross validation accuracy of gradient boosting model with best parameters  0.9869279493269992\n"
     ]
    }
   ],
   "source": [
    "X_train_selected_gb = X_train_resampled[top_k_features_gb]\n",
    "\n",
    "\n",
    "# Defining hyperparameter grid for GridSearchCV\n",
    "param_grid = {\n",
    "    'n_estimators': [50, 100, 150],\n",
    "    'learning_rate': [0.1, 0.01, 0.001],\n",
    "    'max_depth': [3, 4, 5],\n",
    "    'min_samples_split': [2, 5, 10],\n",
    "    'min_samples_leaf': [1, 2, 4]\n",
    "}\n",
    "\n",
    "# Instantiating GridSearchCV\n",
    "grid_search = GridSearchCV(gb_classifier, param_grid=param_grid, cv=5, scoring='accuracy', n_jobs=-1)\n",
    "\n",
    "# Fitting GridSearchCV on the selected features and resampled training data\n",
    "grid_search.fit(X_train_selected_gb, y_train_resampled)\n",
    "\n",
    "# Getting the best model\n",
    "best_gb_model = grid_search.best_estimator_\n",
    "\n",
    "\n",
    "X_test_selected_gb = X_test[top_k_features_gb]\n",
    "\n",
    "# Making predictions on the test set using the best model and selected features\n",
    "y_pred_gb = best_gb_model.predict(X_test_selected_gb)\n",
    "\n",
    "\n",
    "# Calculating the accuracy of the model\n",
    "cm_gb = confusion_matrix(y_test,y_pred_gb)\n",
    "print(cm_gb)\n",
    "print(\"--------------------------------------------\")\n",
    "print(\"Best Estimators\",best_gb_model)\n",
    "accuracy = accuracy_score(y_test, y_pred_gb)\n",
    "precision = precision_score(y_test,y_pred_gb)\n",
    "recall = recall_score(y_test,y_pred_gb)\n",
    "F1_Score  = f1_score(y_test,y_pred_gb)\n",
    "print(\"Model Accuracy:\", accuracy)\n",
    "print(\"Precision\",precision)\n",
    "print(\"Recall\",recall)\n",
    "print(\"F1 Score\", F1_Score)\n",
    "\n",
    "print(\"-------------------------------------------------------------------------------------------------------\")\n",
    "scores_gb = cross_val_score(best_gb_model,X_train_selected_gb,y_train_resampled,cv = 10, scoring = \"accuracy\")\n",
    "print(\"Cross val scores on folds \\n\", scores_gb)\n",
    "print(\"--------------------------------------------------------------------------------------------------------\")\n",
    "print(\"The average cross validation accuracy of gradient boosting model with best parameters \" ,scores_gb.mean())"
   ]
  },
  {
   "cell_type": "code",
   "execution_count": 36,
   "id": "2ed74d6c",
   "metadata": {},
   "outputs": [
    {
     "name": "stdout",
     "output_type": "stream",
     "text": [
      "[0.99524941 0.97624703 0.99049881 0.98099762 0.97862233 0.98099762\n",
      " 0.9952381  0.99285714 0.98809524 0.99047619]\n",
      "The average cross validation accuracy of gradient boosting model with best parameters  0.9869279493269992\n"
     ]
    }
   ],
   "source": [
    "scores_gb = cross_val_score(best_gb_model,X_train_selected_gb,y_train_resampled,cv = 10, scoring = \"accuracy\")\n",
    "print(scores_gb)\n",
    "print(\"The average cross validation accuracy of gradient boosting model with best parameters \" ,scores_gb.mean())"
   ]
  },
  {
   "cell_type": "code",
   "execution_count": 37,
   "id": "92e52b45",
   "metadata": {},
   "outputs": [
    {
     "data": {
      "image/png": "[encoded data removed]",
      "text/plain": [
       "<Figure size 720x576 with 1 Axes>"
      ]
     },
     "metadata": {},
     "output_type": "display_data"
    }
   ],
   "source": [
    "# Getting predicted probabilities for the positive class (class 1)\n",
    "y_pred_prob_gb = best_gb_model.predict_proba(X_test_selected_gb)[:, 1]\n",
    "\n",
    "# Calculating ROC curve and AUC\n",
    "fpr_gb, tpr_gb, thresholds_gb = roc_curve(y_test, y_pred_prob_gb)\n",
    "roc_auc_gb = roc_auc_score(y_test, y_pred_prob_gb)\n",
    "\n",
    "# Create  ROC curve plot\n",
    "plt.figure(figsize=(10, 8))\n",
    "plt.plot(fpr_gb, tpr_gb, color='orange', lw=2, label='ROC Curve (AUC = {:.2f})'.format(roc_auc))\n",
    "plt.plot([0,1],[0,1],color = \"blue\",linestyle =\"--\",label = \"Guessing\")\n",
    "plt.xlim([0.0, 1.0])\n",
    "plt.ylim([0.0, 1.05])\n",
    "plt.xlabel('False Positive Rate', fontsize=12)\n",
    "plt.ylabel('True Positive Rate', fontsize=12)\n",
    "plt.title('Receiver Operating Characteristic (ROC) Curve', fontsize=14)\n",
    "plt.legend(loc=\"lower right\", fontsize=12)\n",
    "plt.grid(True)\n",
    "plt.show()"
   ]
  },
  {
   "cell_type": "markdown",
   "id": "b97dc752",
   "metadata": {},
   "source": [
    "## My Inferences on XG Boost Classifier "
   ]
  },
  {
   "cell_type": "markdown",
   "id": "655f2851",
   "metadata": {},
   "source": [
    "<b>Reasons to select XGBoost:</b>\n",
    "\n",
    "The decision to implement XGBoost as the predictive model is from its suitability for complex classification tasks like loan approval prediction. XGBoost's ensemble of decision trees leverages gradient boosting to enhance accuracy, making it an ideal choice for discovering patterns and making robust predictions for Loan Approval\n",
    "\n",
    "<b>Feature Selection using XGBoost:</b>\n",
    "\n",
    "XGBoost's feature selection operates within its gradient boosting framework. The framework for gradient boosting is where XGBoost functions. XGBoost evaluates feature importance during training by examining their effect on increasing predictive accuracy. Metrics like gain and coverage, which measure a feature's contribution to model accuracy and frequency in splits, respectively, are used in this evaluation. The algorithm cycles over the trees, giving more weight to features that are consistently helpful and less weight to features that are less informative. XGBoost finds important characteristics for my loan approval prediction, including \"cibil_score,\" \"loan_term,\" \"loan_amount,\" \"income_annum,\" and \"residential_assets_value.\" Only essential features are taken into account thanks to this automated procedure, which improves the model's speed and interpretability.\n",
    "\n",
    "<b>Confusion Matrix and Model Performance:</b>\n",
    "\n",
    "True Positive (TP): 524\n",
    "The model correctly predicted 524 instances as \"Approved\" loans.\n",
    "\n",
    "True Negative (TN): 313\n",
    "The model correctly predicted 313 instances as \"Rejected\" loans.\n",
    "\n",
    "False Positive (FP): 2\n",
    "The model incorrectly predicted 2 instances as \"Approved\" when they were actually \"Rejected\" loans.\n",
    "\n",
    "False Negative (FN): 8\n",
    "The model incorrectly predicted 8 instances as \"Not Approved\" when they were actually \"Approved\" loans.\n",
    "\n",
    "<b> Accuracy </b>\n",
    "\n",
    "Model Accuracy: 0.9882\n",
    "The accuracy of the XGBoost model is 98.82%, which means it correctly predicts the loan approval status for a large majority of instances in the dataset.\n",
    "\n",
    "<b> Precision </b>\n",
    "\n",
    "TP / (TP + FP), which is 524 / (524 + 2) = 0.9962. This means that when the model predicts a loan as \"Approved,\" it is correct 99.62% of the time.\n",
    "\n",
    "<b> Recall </b>\n",
    "\n",
    "TP / (TP + FN), which is 524 / (524 + 8) = 0.9849. This means the model correctly identifies 98.49% of the \"Approved\" loans.\n",
    "\n",
    "<b> F1 Score </b>\n",
    "\n",
    " 2 * (Precision * Recall) / (Precision + Recall). In this case, the F1 score is approximately 0.9905, indicating a good balance between precision and recall.\n",
    " \n",
    " \n",
    "<b>Best Estimators and Metrics:</b>\n",
    "\n",
    "Grid search was used to find the best hyperparameters, which strengthened the model's performance. With'max_depth' set to 5,'min_samples_leaf' set to 4,'min_samples_split' set to 10, and 'n_estimators' set to 150, the model achieves a remarkable accuracy of over 98.8%. This accuracy also applies to individual metrics, where recall is steady at 98.5% while precision reaches 99.6%. The model's accuracy and recall balance are further illustrated by the harmonized F1 score.\n",
    "\n",
    "<b> Cross Validation and Robustness:</b>\n",
    "\n",
    "The model was rigorously validated using a 10-fold cross-validation method, demonstrating its capacity on  various data subsets. High accuracy across various subsets is consistent, which emphasizes how well the model generalizes. Its genuine predictive ability can be judged by its capacity to retain performance under many different subsets of data.From the above results the model performs consistently well and which enable us to know that it is a good perfomer and it can generalize well on the unseen data\n",
    "Moreover, the model has average cross validation accuracy of 98.69% on 10 folds\n",
    "\n",
    "<b>Average Cross Validation Accuracy:</b>\n",
    "\n",
    "In conclusion, the XGBoost model's commendable average cross-validation accuracy of approximately 98.7% solidifies its stature as a reliable tool. Its ability to balance accuracy, precision, recall, and overall robustness makes it an invaluable asset for making informed and confident lending decisions."
   ]
  },
  {
   "cell_type": "code",
   "execution_count": 145,
   "id": "af933778",
   "metadata": {},
   "outputs": [],
   "source": [
    "from sklearn.decomposition import PCA\n",
    "pca = PCA()\n",
    "X_pca = pca.fit_transform(X_train_resampled)"
   ]
  },
  {
   "cell_type": "code",
   "execution_count": 153,
   "id": "79295bfb",
   "metadata": {},
   "outputs": [
    {
     "data": {
      "image/png": "[encoded data removed]",
      "text/plain": [
       "<Figure size 432x288 with 1 Axes>"
      ]
     },
     "metadata": {},
     "output_type": "display_data"
    }
   ],
   "source": [
    "cumulative_var = np.cumsum(pca.explained_variance_ratio_)\n",
    "\n",
    "# Finding the number of componentsm that cover 95% of variance\n",
    "threshold_var = 0.95\n",
    "num_components_to_retain = np.argmax(cumulative_var >= threshold_var) + 1\n",
    "\n",
    "\n",
    "# Visualize the explained variance ratio for each principal component\n",
    "plt.bar(range(1, len(cumulative_var) + 1), cumulative_var)\n",
    "plt.plot(range(1, len(cumulative_var) + 1), cumulative_var, marker='o', color='b')\n",
    "plt.axvline(x=num_components_to_retain, color='r', linestyle='--')\n",
    "plt.xlabel('Number of Principal Components')\n",
    "plt.ylabel('Cumulative Explained Variance Ratio')\n",
    "plt.title('Cumulative Explained Variance Ratio by Number of Principal Components')\n",
    "plt.grid()\n",
    "plt.show()"
   ]
  },
  {
   "cell_type": "code",
   "execution_count": 154,
   "id": "6bf127f0",
   "metadata": {},
   "outputs": [
    {
     "data": {
      "image/png": "[encoded data removed]",
      "text/plain": [
       "<Figure size 720x432 with 1 Axes>"
      ]
     },
     "metadata": {},
     "output_type": "display_data"
    }
   ],
   "source": [
    "plt.figure(figsize=(10, 6))\n",
    "explained_var = pca.explained_variance_ratio_\n",
    "number_of_components = len(explained_var)\n",
    "\n",
    "plt.bar(range(1, number_of_components + 1), explained_var)\n",
    "plt.xlabel('Principal Components')\n",
    "plt.ylabel('Explained Variance')\n",
    "plt.title('Explained Variance by Principal Component')\n",
    "plt.show()"
   ]
  },
  {
   "cell_type": "code",
   "execution_count": 137,
   "id": "992e4dc7",
   "metadata": {},
   "outputs": [],
   "source": [
    "pca = PCA(n_components=num_components_to_retain)\n",
    "X_pca = pca.fit_transform(X_train_resampled)"
   ]
  },
  {
   "cell_type": "code",
   "execution_count": 138,
   "id": "f8ecd515",
   "metadata": {},
   "outputs": [],
   "source": [
    "from sklearn.model_selection import train_test_split\n",
    "X_train,X_test,y_train,y_test = train_test_split(X_pca,y_train_resampled,test_size=0.2,random_state=42)"
   ]
  },
  {
   "cell_type": "markdown",
   "id": "4a665d72",
   "metadata": {},
   "source": [
    "# Neural Networks"
   ]
  },
  {
   "cell_type": "code",
   "execution_count": 139,
   "id": "a404f4ae",
   "metadata": {},
   "outputs": [
    {
     "name": "stdout",
     "output_type": "stream",
     "text": [
      "Epoch 1/30\n",
      "106/106 [==============================] - 1s 2ms/step - loss: 0.2688 - accuracy: 0.9099 - val_loss: 0.2002 - val_accuracy: 0.9430\n",
      "Epoch 2/30\n",
      "106/106 [==============================] - 0s 1ms/step - loss: 0.1857 - accuracy: 0.9361 - val_loss: 0.1754 - val_accuracy: 0.9525\n",
      "Epoch 3/30\n",
      "106/106 [==============================] - 0s 1ms/step - loss: 0.1694 - accuracy: 0.9426 - val_loss: 0.1661 - val_accuracy: 0.9584\n",
      "Epoch 4/30\n",
      "106/106 [==============================] - 0s 1ms/step - loss: 0.1555 - accuracy: 0.9471 - val_loss: 0.1567 - val_accuracy: 0.9489\n",
      "Epoch 5/30\n",
      "106/106 [==============================] - 0s 1ms/step - loss: 0.1454 - accuracy: 0.9477 - val_loss: 0.1521 - val_accuracy: 0.9572\n",
      "Epoch 6/30\n",
      "106/106 [==============================] - 0s 1ms/step - loss: 0.1366 - accuracy: 0.9498 - val_loss: 0.1474 - val_accuracy: 0.9584\n",
      "Epoch 7/30\n",
      "106/106 [==============================] - 0s 2ms/step - loss: 0.1308 - accuracy: 0.9510 - val_loss: 0.1361 - val_accuracy: 0.9572\n",
      "Epoch 8/30\n",
      "106/106 [==============================] - 0s 1ms/step - loss: 0.1253 - accuracy: 0.9545 - val_loss: 0.1566 - val_accuracy: 0.9311\n",
      "Epoch 9/30\n",
      "106/106 [==============================] - 0s 1ms/step - loss: 0.1154 - accuracy: 0.9596 - val_loss: 0.1284 - val_accuracy: 0.9549\n",
      "Epoch 10/30\n",
      "106/106 [==============================] - 0s 1ms/step - loss: 0.1094 - accuracy: 0.9608 - val_loss: 0.1294 - val_accuracy: 0.9549\n",
      "Epoch 11/30\n",
      "106/106 [==============================] - 0s 1ms/step - loss: 0.1060 - accuracy: 0.9584 - val_loss: 0.1221 - val_accuracy: 0.9561\n",
      "Epoch 12/30\n",
      "106/106 [==============================] - 0s 1ms/step - loss: 0.1015 - accuracy: 0.9614 - val_loss: 0.1147 - val_accuracy: 0.9632\n",
      "Epoch 13/30\n",
      "106/106 [==============================] - 0s 1ms/step - loss: 0.0951 - accuracy: 0.9625 - val_loss: 0.1077 - val_accuracy: 0.9632\n",
      "Epoch 14/30\n",
      "106/106 [==============================] - 0s 1ms/step - loss: 0.0904 - accuracy: 0.9620 - val_loss: 0.1275 - val_accuracy: 0.9525\n",
      "Epoch 15/30\n",
      "106/106 [==============================] - 0s 1ms/step - loss: 0.0877 - accuracy: 0.9643 - val_loss: 0.1137 - val_accuracy: 0.9584\n",
      "Epoch 16/30\n",
      "106/106 [==============================] - 0s 1ms/step - loss: 0.0845 - accuracy: 0.9634 - val_loss: 0.1215 - val_accuracy: 0.9525\n",
      "Epoch 17/30\n",
      "106/106 [==============================] - 0s 1ms/step - loss: 0.0752 - accuracy: 0.9700 - val_loss: 0.1144 - val_accuracy: 0.9608\n",
      "Epoch 18/30\n",
      "106/106 [==============================] - 0s 1ms/step - loss: 0.0737 - accuracy: 0.9712 - val_loss: 0.1059 - val_accuracy: 0.9620\n",
      "Epoch 19/30\n",
      "106/106 [==============================] - 0s 1ms/step - loss: 0.0727 - accuracy: 0.9691 - val_loss: 0.1047 - val_accuracy: 0.9584\n",
      "Epoch 20/30\n",
      "106/106 [==============================] - 0s 1ms/step - loss: 0.0737 - accuracy: 0.9691 - val_loss: 0.1175 - val_accuracy: 0.9584\n",
      "Epoch 21/30\n",
      "106/106 [==============================] - 0s 1ms/step - loss: 0.0692 - accuracy: 0.9718 - val_loss: 0.1182 - val_accuracy: 0.9561\n",
      "Epoch 22/30\n",
      "106/106 [==============================] - 0s 1ms/step - loss: 0.0662 - accuracy: 0.9750 - val_loss: 0.1204 - val_accuracy: 0.9584\n",
      "Epoch 23/30\n",
      "106/106 [==============================] - 0s 1ms/step - loss: 0.0661 - accuracy: 0.9685 - val_loss: 0.1322 - val_accuracy: 0.9525\n",
      "Epoch 24/30\n",
      "106/106 [==============================] - 0s 1ms/step - loss: 0.0655 - accuracy: 0.9718 - val_loss: 0.1118 - val_accuracy: 0.9549\n",
      "Epoch 25/30\n",
      "106/106 [==============================] - 0s 1ms/step - loss: 0.0552 - accuracy: 0.9768 - val_loss: 0.1067 - val_accuracy: 0.9608\n",
      "Epoch 26/30\n",
      "106/106 [==============================] - 0s 1ms/step - loss: 0.0537 - accuracy: 0.9780 - val_loss: 0.1093 - val_accuracy: 0.9537\n",
      "Epoch 27/30\n",
      "106/106 [==============================] - 0s 1ms/step - loss: 0.0570 - accuracy: 0.9774 - val_loss: 0.1220 - val_accuracy: 0.9620\n",
      "Epoch 28/30\n",
      "106/106 [==============================] - 0s 1ms/step - loss: 0.0560 - accuracy: 0.9765 - val_loss: 0.1249 - val_accuracy: 0.9513\n",
      "Epoch 29/30\n",
      "106/106 [==============================] - 0s 1ms/step - loss: 0.0554 - accuracy: 0.9765 - val_loss: 0.1060 - val_accuracy: 0.9596\n",
      "Epoch 30/30\n",
      "106/106 [==============================] - 0s 1ms/step - loss: 0.0455 - accuracy: 0.9810 - val_loss: 0.1309 - val_accuracy: 0.9537\n",
      "Model Accuracy: 0.9536817102137767\n"
     ]
    }
   ],
   "source": [
    "import numpy as np\n",
    "from sklearn.model_selection import train_test_split\n",
    "from sklearn.decomposition import PCA\n",
    "from sklearn.preprocessing import StandardScaler\n",
    "from sklearn.metrics import accuracy_score\n",
    "import tensorflow as tf\n",
    "from tensorflow import keras\n",
    "from tensorflow.keras import layers\n",
    "\n",
    "# Applying PCA\n",
    "pca = PCA(n_components=num_components_to_retain)\n",
    "X_pca = pca.fit_transform(X_train_resampled)\n",
    "\n",
    "# Splitting the data into training and validation sets\n",
    "X_train, X_val, y_train, y_val = train_test_split(X_pca, y_train_resampled, test_size=0.2, random_state=42)\n",
    "\n",
    "model = keras.Sequential([\n",
    "    layers.Input(shape=(num_components_to_retain,)),  # Use the correct number of components\n",
    "    layers.Dense(256, activation='relu'),\n",
    "    layers.Dense(128, activation='relu'),\n",
    "    layers.Dense(2, activation='softmax')\n",
    "])\n",
    "\n",
    "# Compile the model\n",
    "model.compile(optimizer='adam', loss='sparse_categorical_crossentropy', metrics=['accuracy'])\n",
    "\n",
    "# Train the model\n",
    "epochs = 30\n",
    "batch_size = 32\n",
    "model.fit(X_train, y_train, epochs=epochs, batch_size=batch_size, verbose=1, validation_data=(X_val, y_val))\n",
    "\n",
    "# Evaluate the model\n",
    "y_pred = model.predict(X_test)\n",
    "y_pred_class = np.argmax(y_pred, axis=1)\n",
    "\n",
    "accuracy = accuracy_score(y_test, y_pred_class)\n",
    "print(\"Model Accuracy:\", accuracy)\n"
   ]
  },
  {
   "cell_type": "code",
   "execution_count": 144,
   "id": "4e96ece3",
   "metadata": {},
   "outputs": [
    {
     "name": "stdout",
     "output_type": "stream",
     "text": [
      "Confusion Matrix \n",
      " [[386  27]\n",
      " [ 12 417]]\n",
      "Precision: 0.9391891891891891\n",
      "Recall: 0.972027972027972\n",
      "F1 Score: 0.9553264604810996\n"
     ]
    }
   ],
   "source": [
    "# Calculating precision, recall, and F1 score\n",
    "precision = precision_score(y_test, y_pred_class)\n",
    "recall = recall_score(y_test, y_pred_class)\n",
    "f1 = f1_score(y_test, y_pred_class)\n",
    "conf = confusion_matrix(y_test,y_pred_class)\n",
    "\n",
    "print(\"Confusion Matrix \\n\",conf)\n",
    "print(\"Precision:\", precision)\n",
    "print(\"Recall:\", recall)\n",
    "print(\"F1 Score:\", f1)"
   ]
  },
  {
   "cell_type": "code",
   "execution_count": 141,
   "id": "03f55b88",
   "metadata": {},
   "outputs": [
    {
     "name": "stdout",
     "output_type": "stream",
     "text": [
      "Cross-Validation Scores: [0.9524940617577197, 0.9762470308788599, 0.9833729216152018, 0.9928741092636579, 0.9833729216152018, 0.997624703087886, 0.9928571428571429, 0.9928571428571429, 0.9976190476190476, 0.9833333333333333]\n",
      "Mean CV Accuracy: 0.9852652414885193\n"
     ]
    }
   ],
   "source": [
    "# Performing cross-validation\n",
    "from sklearn.model_selection import train_test_split, KFold\n",
    "kf = KFold(n_splits=10, shuffle=True, random_state=42)\n",
    "cv_scores = []\n",
    "for train_index, val_index in kf.split(X_pca):\n",
    "    X_train_fold, X_val_fold = X_pca[train_index], X_pca[val_index]\n",
    "    y_train_fold, y_val_fold = y_train_resampled[train_index], y_train_resampled[val_index]\n",
    "    \n",
    "    model.fit(X_train_fold, y_train_fold, epochs=epochs, batch_size=batch_size, verbose=0)\n",
    "    \n",
    "    y_val_pred = model.predict(X_val_fold)\n",
    "    y_val_pred_class = np.argmax(y_val_pred, axis=1)\n",
    "    \n",
    "    fold_accuracy = accuracy_score(y_val_fold, y_val_pred_class)\n",
    "    cv_scores.append(fold_accuracy)\n",
    "\n",
    "print(\"Cross-Validation Scores:\", cv_scores)\n",
    "print(\"Mean CV Accuracy:\", np.mean(cv_scores))"
   ]
  },
  {
   "cell_type": "markdown",
   "id": "2ad0a191",
   "metadata": {},
   "source": [
    "## My Inferences on Neural Networks\n",
    "\n",
    "<b>Model Accuracy: 0.9537:</b>\n",
    "\n",
    "The neural network model's total accuracy is roughly 95.37%. This indicates that for around 95.37% of the cases in the dataset, the model accurately predicts the loan approval status.\n",
    "\n",
    "<b>Cross-Validation Scores:</b>\n",
    "\n",
    "Cross-validation is a method for evaluating how well a model generalizes. The reported cross-validation scores, which range from roughly 0.9525 to 0.9976, are fairly stable. The model performs well on average across multiple folds of the data, as evidenced by the mean cross-validation accuracy of 0.9853.\n",
    "\n",
    "<b>Precision</b>\n",
    "\n",
    "0.9392:The precision measures the proportion of observations that were accurately forecasted as positive to all anticipated positives. It is 0.9392 in this instance, meaning that when the model predicts that a loan will be \"Approved,\" it is accurate 93.92% of the time.\n",
    "\n",
    "<b>Recall</b>\n",
    "\n",
    "0.9720: The model's capacity to accurately detect positive cases is measured by recall, also known as sensitivity or true positive rate. A recall of 0.9720 indicates that roughly 97.20 percent of the real \"Approved\" loans are accurately identified by the model.\n",
    "\n",
    "<b>F1 Score</b>\n",
    "\n",
    "0.9553:The harmonic mean of recall and precision, which is the F1 score, strikes a compromise between the two. A result of 0.9553 indicates that the model's precision and recall are well-balanced.\n",
    "\n"
   ]
  },
  {
   "cell_type": "markdown",
   "id": "2cc56b2e",
   "metadata": {},
   "source": [
    "# Decision Trees"
   ]
  },
  {
   "cell_type": "code",
   "execution_count": 38,
   "id": "407e8e9b",
   "metadata": {},
   "outputs": [
    {
     "name": "stdout",
     "output_type": "stream",
     "text": [
      "Index(['cibil_score', 'loan_term', 'loan_amount', 'income_annum',\n",
      "       'residential_assets_value'],\n",
      "      dtype='object')\n"
     ]
    }
   ],
   "source": [
    "classifier_dt = DecisionTreeClassifier(random_state=42)\n",
    "classifier_dt.fit(X_train_resampled, y_train_resampled)\n",
    "\n",
    "# Getting feature importances\n",
    "feature_importances_dt = classifier_dt.feature_importances_\n",
    "\n",
    "# Choosing the top-k important features\n",
    "k = 5 \n",
    "top_k_features_indices_dt = np.argsort(feature_importances_dt)[::-1][:k]\n",
    "top_k_features_dt = X_train_resampled.columns[top_k_features_indices_dt]\n",
    "print(top_k_features_dt)"
   ]
  },
  {
   "cell_type": "code",
   "execution_count": 39,
   "id": "b644b223",
   "metadata": {},
   "outputs": [
    {
     "data": {
      "image/png": "[encoded data removed]",
      "text/plain": [
       "<Figure size 720x432 with 1 Axes>"
      ]
     },
     "metadata": {},
     "output_type": "display_data"
    }
   ],
   "source": [
    "plt.figure(figsize=(10, 6))\n",
    "plt.barh(X_train_resampled.columns, feature_importances_dt)\n",
    "plt.xlabel('Feature Importance')\n",
    "plt.ylabel('Feature')\n",
    "plt.title('Feature Importances - Decision Trees')\n",
    "plt.show()"
   ]
  },
  {
   "cell_type": "code",
   "execution_count": 40,
   "id": "babfffaf",
   "metadata": {},
   "outputs": [],
   "source": [
    "# Using the selected features for training and testing\n",
    "X_train_selected_dt = X_train_resampled[top_k_features_dt]\n",
    "X_test_selected_dt = X_test[top_k_features_dt]"
   ]
  },
  {
   "cell_type": "code",
   "execution_count": 41,
   "id": "b4cbb82a",
   "metadata": {},
   "outputs": [],
   "source": [
    "param_grid = {\n",
    "    'max_depth': [None, 10, 20],\n",
    "    'min_samples_split': [2, 5, 10],\n",
    "    'min_samples_leaf': [1, 2, 4],\n",
    "    'criterion': ['gini', 'entropy']\n",
    "}"
   ]
  },
  {
   "cell_type": "code",
   "execution_count": 42,
   "id": "a1493f49",
   "metadata": {},
   "outputs": [],
   "source": [
    "# Instantiatting GridSearchCV\n",
    "grid_search = GridSearchCV(classifier_dt, param_grid=param_grid, cv=5, n_jobs=-1)\n",
    "\n",
    "# Fitting GridSearchCV on the selected features\n",
    "grid_search.fit(X_train_selected_dt, y_train_resampled)\n",
    "\n",
    "# Getting the best model\n",
    "best_dt_model = grid_search.best_estimator_"
   ]
  },
  {
   "cell_type": "code",
   "execution_count": 43,
   "id": "5b5e3fc8",
   "metadata": {},
   "outputs": [
    {
     "name": "stdout",
     "output_type": "stream",
     "text": [
      "[[314   1]\n",
      " [ 10 522]]\n",
      "------------------------------------------------------------------------------------------\n",
      "Best Parameters: DecisionTreeClassifier(criterion='entropy', min_samples_leaf=4, random_state=42)\n",
      "None\n",
      "-------------------------------------------------------------------------------------------\n",
      "Model Accuracy: 0.9881936245572609\n",
      "Precision 0.9980879541108987\n",
      "Recall 0.981203007518797\n",
      "----------------------------------------------------------------------------------------\n",
      "[0.99049881 0.97149644 0.97862233 0.97387173 0.98099762 0.97862233\n",
      " 0.98571429 0.98809524 0.98571429 0.9952381 ]\n",
      "----------------------------------------------------------------------------------------\n",
      "The cross validation accuracy of decision trees is  0.9828871168419863\n"
     ]
    }
   ],
   "source": [
    "y_pred_dt = best_dt_model.predict(X_test_selected_dt)\n",
    "cm_dt = confusion_matrix(y_test,y_pred_dt)\n",
    "print(cm_dt)\n",
    "print(\"------------------------------------------------------------------------------------------\")\n",
    "print(print(\"Best Parameters:\", best_dt_model))\n",
    "print(\"-------------------------------------------------------------------------------------------\")\n",
    "accuracy_dt = accuracy_score(y_test, y_pred_dt)\n",
    "print(\"Model Accuracy:\", accuracy)\n",
    "precision_dt = precision_score(y_test,y_pred_dt)\n",
    "print(\"Precision\",precision_dt)\n",
    "recall_dt = recall_score(y_test,y_pred_dt)\n",
    "print(\"Recall\",recall_dt)\n",
    "print(\"----------------------------------------------------------------------------------------\")\n",
    "scores_dt = cross_val_score(best_dt_model,X_train_selected_dt,y_train_resampled,cv = 10, scoring = \"accuracy\")\n",
    "print(scores_dt)\n",
    "print(\"----------------------------------------------------------------------------------------\")\n",
    "print(\"The cross validation accuracy of decision trees is \",scores_dt.mean())"
   ]
  },
  {
   "cell_type": "code",
   "execution_count": 44,
   "id": "f4c92c97",
   "metadata": {},
   "outputs": [
    {
     "data": {
      "image/png": "[encoded data removed]",
      "text/plain": [
       "<Figure size 720x576 with 1 Axes>"
      ]
     },
     "metadata": {},
     "output_type": "display_data"
    }
   ],
   "source": [
    "# Getting predicted probabilities for the positive class (class 1)\n",
    "y_pred_prob_dt = best_dt_model.predict_proba(X_test_selected_dt)[:, 1]\n",
    "\n",
    "# Calculating ROC curve and AUC\n",
    "fpr_dt, tpr_dt, thresholds_dt = roc_curve(y_test, y_pred_prob_dt)\n",
    "roc_auc_gb = roc_auc_score(y_test, y_pred_prob_gb)\n",
    "\n",
    "# Create  curve plot\n",
    "plt.figure(figsize=(10, 8))\n",
    "plt.plot(fpr_dt, tpr_dt, color='orange', lw=2, label='ROC Curve (AUC = {:.2f})'.format(roc_auc))\n",
    "plt.plot([0,1],[0,1],color = \"blue\",linestyle =\"--\",label = \"Guessing\")\n",
    "plt.xlim([0.0, 1.0])\n",
    "plt.ylim([0.0, 1.05])\n",
    "plt.xlabel('False Positive Rate', fontsize=12)\n",
    "plt.ylabel('True Positive Rate', fontsize=12)\n",
    "plt.title('Receiver Operating Characteristic (ROC) Curve', fontsize=14)\n",
    "plt.legend(loc=\"lower right\", fontsize=12)\n",
    "plt.grid(True)\n",
    "plt.show()"
   ]
  },
  {
   "cell_type": "markdown",
   "id": "d69fc89a",
   "metadata": {},
   "source": [
    "\n",
    "<b> Reasons to Choose Decision Tree:</b>\n",
    "\n",
    "Decision trees offer several advantages that make them a suitable choice for the loan approval prediction task. They are easy to understand and interpret, providing transparency in the decision-making process. Decision trees can handle both categorical and numerical data without requiring extensive preprocessing. They can capture non-linear relationships in the data and are robust to outliers, which is beneficial for a diverse dataset like loan applications. Additionally, decision trees can handle feature interactions and can be visualized, aiding in explaining the decision-making process to stakeholders.\n",
    "\n",
    "<b> Feature Selection Process using Decision Trees:</b>\n",
    "\n",
    "Decision trees use a method for feature selection that ranks features based on how important they are in splitting the data. Features that result in a considerable information gain or a decrease in Gini impurities are preferred while building trees. The feature's contribution to the model's predictive capability is then assessed using these splits. In our evaluation, the decision tree's top 5 features were cibil_score, loan duration, loan amount, income per annum, and residential assets value. These characteristics have been found to be the ones that differ the most in loan approval statuses. This method naturally executes feature selection by prioritizing pertinent features, which is in line with our objective of discovering important variables affecting loan acceptance.\n",
    "\n",
    "<b> Confusion Matrix: </b>\n",
    "\n",
    "True Positive (TP): 522\n",
    "The model correctly predicted 522 instances as \"Approved\" loans.\n",
    "\n",
    "True Negative (TN): 314\n",
    "The model correctly predicted 314 instances as \"Not Approved\" loans.\n",
    "\n",
    "False Positive (FP): 1\n",
    "The model incorrectly predicted 1 instance as \"Approved\" when it was actually \"Not Approved.\"\n",
    "\n",
    "False Negative (FN): 10\n",
    "The model incorrectly predicted 10 instances as \"Not Approved\" when they were actually \"Approved.\"\n",
    "\n",
    "<b> Precision:</b> \n",
    "\n",
    "Precision measures the accuracy of the positive predictions made by the model. In this case, the precision is calculated as TP / (TP + FP), which is 522 / (522 + 1) = 0.9981. This means that when the model predicts a loan as \"Approved,\" it is correct 99.81% of the time.\n",
    "\n",
    "<b> Recall </b>\n",
    "\n",
    "Recall (Sensitivity):\n",
    "Recall measures the model's ability to identify all positive instances. It is calculated as TP / (TP + FN), which is 522 / (522 + 10) = 0.9812. This means the model correctly identifies 98.12% of the \"Approved\" loans.\n",
    "\n",
    "<b> F1 Score </b>\n",
    "\n",
    "F1 score is 2 * (Precision * Recall) / (Precision + Recall). For the decision tree model, the F1 score is approximately 0.9896\n",
    "\n",
    "<b> Cross Validation Accuracy: </b>\n",
    "\n",
    "The cross-validation accuracy of the decision tree model on 10 folds is 0.9829, indicating the model's consistent performance across different subsets of the data.\n",
    "\n",
    "These metrics collectively highlight the decision tree model's ability to accurately predict loan approval statuses, with high precision, recall, and cross-validation accuracy."
   ]
  },
  {
   "cell_type": "markdown",
   "id": "3ec10cea",
   "metadata": {},
   "source": [
    "# Logistic Regression Sequential Feature Selection"
   ]
  },
  {
   "cell_type": "code",
   "execution_count": 45,
   "id": "b35b1ffd",
   "metadata": {},
   "outputs": [],
   "source": [
    "import pandas as pd\n",
    "from sklearn.preprocessing import StandardScaler\n",
    "scaler = StandardScaler()\n",
    "scaled_data = scaler.fit_transform(X)"
   ]
  },
  {
   "cell_type": "code",
   "execution_count": 46,
   "id": "1237c07a",
   "metadata": {},
   "outputs": [
    {
     "name": "stdout",
     "output_type": "stream",
     "text": [
      "Selected features using stepwise feature selection are: \n",
      " Index(['no_of_dependents', 'income_annum', 'cibil_score', 'education_enocoded',\n",
      "       'self_employed_encoded'],\n",
      "      dtype='object')\n"
     ]
    }
   ],
   "source": [
    "from sklearn.linear_model import LogisticRegression\n",
    "from mlxtend.feature_selection import SequentialFeatureSelector\n",
    "from sklearn.metrics import accuracy_score, precision_score, recall_score, f1_score, confusion_matrix\n",
    "\n",
    "# Creating a logistic regression model\n",
    "model_lg = LogisticRegression()\n",
    "\n",
    "# Initializing the Sequential Feature Selector\n",
    "sfs = SequentialFeatureSelector(model_lg, forward=True, k_features=5, scoring='accuracy', cv=5)\n",
    "\n",
    "# Fit the SFS on the resampled training data\n",
    "sfs.fit(X_train_resampled, y_train_resampled)\n",
    "\n",
    "# Getting the selected features\n",
    "selected_features = X_train_resampled.columns[list(sfs.k_feature_idx_)]\n",
    "print(\"Selected features using stepwise feature selection are: \\n\",selected_features)\n",
    "\n",
    "# Training the logistic regression model using the selected features\n",
    "model_lg.fit(X_train_resampled[selected_features], y_train_resampled)\n",
    "\n",
    "# Making predictions on the test set\n",
    "y_pred_lg = model_lg.predict(X_test[selected_features])"
   ]
  },
  {
   "cell_type": "code",
   "execution_count": 47,
   "id": "0089ff83",
   "metadata": {},
   "outputs": [
    {
     "name": "stdout",
     "output_type": "stream",
     "text": [
      "Confusion Matrix:\n",
      " [[309   6]\n",
      " [ 44 488]]\n",
      "Accuracy: 0.9409681227863046\n",
      "Precision: 0.9878542510121457\n",
      "Recall: 0.9172932330827067\n",
      "F1-score: 0.9512670565302144\n",
      "---------------------------------\n",
      "[0.94061758 0.92874109 0.91211401 0.93111639 0.90736342 0.93111639\n",
      " 0.93809524 0.9452381  0.92857143 0.95714286]\n",
      "---------------------------------\n",
      "The cross validation accuracy of logistic regression model using sequential feature selections is \n",
      " 0.932011650265807\n"
     ]
    }
   ],
   "source": [
    "# Confusion matrix\n",
    "conf_matrix = confusion_matrix(y_test, y_pred_lg)\n",
    "print(\"Confusion Matrix:\\n\", conf_matrix)\n",
    "\n",
    "# Calculating accuracy\n",
    "accuracy = accuracy_score(y_test, y_pred_lg)\n",
    "print(\"Accuracy:\", accuracy)\n",
    "\n",
    "# Calculating precision\n",
    "precision = precision_score(y_test, y_pred_lg)\n",
    "print(\"Precision:\", precision)\n",
    "\n",
    "# Calculate recall\n",
    "recall = recall_score(y_test, y_pred_lg)\n",
    "print(\"Recall:\", recall)\n",
    "\n",
    "# Calculating F1-score\n",
    "f1 = f1_score(y_test, y_pred_lg)\n",
    "print(\"F1-score:\", f1)\n",
    "\n",
    "print(\"---------------------------------\")\n",
    "scores_lg = cross_val_score(model_lg,X_train_resampled,y_train_resampled,cv=10,scoring='accuracy')\n",
    "print(scores_lg)\n",
    "\n",
    "print(\"---------------------------------\")\n",
    "print(\"The cross validation accuracy of logistic regression model using sequential feature selections is \\n\",scores_lg.mean())"
   ]
  },
  {
   "cell_type": "markdown",
   "id": "fd277131",
   "metadata": {},
   "source": [
    "## My Inferences on Logistic Regression Model\n",
    "\n",
    "\n",
    "The logistic regression model, built using stepwise feature selection, provides valuable insights into predicting loan approval outcomes. The stepwise feature selection method carefully selects a subset of features to enhance model performance and interpretability. In this case, the selected features include 'no_of_dependents,' 'income_annum,' 'cibil_score,' 'education_enocoded,' and 'self_employed_encoded.'\n",
    "\n",
    "<b> Reasons to choose SFS </b>\n",
    "Sequential Feature Selection (SFS) is employed to enhance model performance by systematically evaluating subsets of features and identifying the most relevant ones for predicting loan approvals. This iterative process optimally combines features to maximize accuracy while minimizing overfitting. By iteratively adding or removing features based on their impact, SFS aims to find an optimal balance between model complexity and predictive power. Its stepwise nature ensures that only the most informative features are retained, leading to improved model interpretability and potentially reducing the risk of multicollinearity. SFS contributes to a more efficient and effective model by focusing on the most relevant variables, ultimately enhancing the model's ability to make accurate loan approval predictions.\n",
    "\n",
    "<b> Model Performance: </b>\n",
    "The model's performance is evaluated using multiple metrics:\n",
    "\n",
    "<b> Confusion Matrix: </b>\n",
    "\n",
    " The confusion matrix helps us understand the model's classification results. It consists of True Positives (TP), True Negatives (TN), False Positives (FP), and False Negatives (FN).\n",
    "\n",
    "<b> Accuracy: </b>\n",
    "\n",
    "The accuracy of the model measures the proportion of correct predictions out of all predictions. An accuracy of 94.10% indicates a good level of correctness in predicting loan approvals.\n",
    "\n",
    "<b>Precision: </b>\n",
    "\n",
    "Precision represents the ratio of correctly predicted \"Approved\" loans to all instances predicted as \"Approved.\" With a precision of 98.79%, the model's positive predictions are highly accurate.\n",
    "\n",
    "<b> Recall (Sensitivity): </b>\n",
    "\n",
    "Recall measures the proportion of correctly predicted \"Approved\" loans among all actual \"Approved\" instances. The model achieves a recall of 91.73%, capturing a significant portion of actual positives.\n",
    "\n",
    "<b> F1-score: </b>\n",
    "\n",
    "The F1-score combines precision and recall into a single metric, providing a balanced assessment of the model's performance. A value of 95.13% indicates that the model achieves a good balance between precision and recall.\n",
    "\n",
    "<b> Cross-Validation: </b>\n",
    "\n",
    "Cross-validation is performed on 10 folds to assess the model's generalization performance. The calculated cross-validation accuracy values ranging from 90.74% to 95.71% further validate the model's stability and consistency across different data subsets.\n",
    "\n",
    "Logistic Regression is chosen as the modeling technique for loan approval prediction due to its interpretability, computational efficiency, and probabilistic output. The model's coefficients directly indicate the impact of each feature on the loan approval decision, aiding in feature selection and understanding. "
   ]
  },
  {
   "cell_type": "code",
   "execution_count": 48,
   "id": "ceda13a5",
   "metadata": {},
   "outputs": [
    {
     "data": {
      "image/png": "[encoded data removed]",
      "text/plain": [
       "<Figure size 720x576 with 1 Axes>"
      ]
     },
     "metadata": {},
     "output_type": "display_data"
    }
   ],
   "source": [
    "# Get predicted probabilities for the positive class (class 1)\n",
    "y_pred_prob_lg = model_lg.predict_proba(X_test[selected_features])[:, 1]\n",
    "\n",
    "# Calculate ROC curve and AUC\n",
    "fpr_lg, tpr_lg, thresholds_dt = roc_curve(y_test, y_pred_prob_lg)\n",
    "roc_auc_lg = roc_auc_score(y_test, y_pred_prob_lg)\n",
    "\n",
    "# Create  ROC curve plot\n",
    "plt.figure(figsize=(10, 8))\n",
    "plt.plot(fpr_lg, tpr_lg, color='orange', lw=2, label='ROC Curve (AUC = {:.2f})'.format(roc_auc))\n",
    "plt.plot([0,1],[0,1],color = \"blue\",linestyle =\"--\",label = \"Guessing\")\n",
    "plt.xlim([0.0, 1.0])\n",
    "plt.ylim([0.0, 1.05])\n",
    "plt.xlabel('False Positive Rate', fontsize=12)\n",
    "plt.ylabel('True Positive Rate', fontsize=12)\n",
    "plt.title('Receiver Operating Characteristic (ROC) Curve', fontsize=14)\n",
    "plt.legend(loc=\"lower right\", fontsize=12)\n",
    "plt.grid(True)\n",
    "plt.show()"
   ]
  },
  {
   "cell_type": "code",
   "execution_count": 49,
   "id": "eb3dd852",
   "metadata": {},
   "outputs": [
    {
     "data": {
      "text/plain": [
       "Index(['no_of_dependents', 'income_annum', 'cibil_score', 'education_enocoded',\n",
       "       'self_employed_encoded'],\n",
       "      dtype='object')"
      ]
     },
     "execution_count": 49,
     "metadata": {},
     "output_type": "execute_result"
    }
   ],
   "source": [
    "selected_features"
   ]
  },
  {
   "cell_type": "code",
   "execution_count": 53,
   "id": "22462b5d",
   "metadata": {},
   "outputs": [
    {
     "data": {
      "text/plain": [
       "Index(['no_of_dependents', 'income_annum', 'cibil_score', 'education_enocoded',\n",
       "       'self_employed_encoded'],\n",
       "      dtype='object')"
      ]
     },
     "execution_count": 53,
     "metadata": {},
     "output_type": "execute_result"
    }
   ],
   "source": [
    "selected_features"
   ]
  },
  {
   "cell_type": "markdown",
   "id": "962ab602",
   "metadata": {},
   "source": [
    "# Best Model\n",
    "\n",
    "#### Gradient Boosting model appears to be the best-performing model. It has the highest accuracy, precision, recall, and F1 score, making it a strong contender for the best model choice."
   ]
  },
  {
   "cell_type": "code",
   "execution_count": 55,
   "id": "108332af",
   "metadata": {},
   "outputs": [],
   "source": [
    "## this is just for tkinter app as standard scaler was used using all variables so had to scale the variables selected by sequential features again \n",
    "sc = df[['no_of_dependents', 'income_annum', 'cibil_score', 'education_enocoded','self_employed_encoded']]"
   ]
  },
  {
   "cell_type": "raw",
   "id": "eee753a4",
   "metadata": {},
   "source": [
    "import joblib\n",
    "sc1 = StandardScaler()\n",
    "sc1.fit_transform(sc)\n",
    "joblib.dump(sc1, 'scaler_1.pkl')"
   ]
  },
  {
   "cell_type": "code",
   "execution_count": 1,
   "id": "5dcceeeb",
   "metadata": {},
   "outputs": [],
   "source": [
    "import tkinter as tk\n",
    "from tkinter import ttk\n",
    "import joblib\n",
    "import numpy as np\n",
    "import warnings\n",
    "warnings.filterwarnings('ignore')\n",
    "\n",
    "# Loading the trained model and other necessary files\n",
    "model = joblib.load('model.pkl')\n",
    "scaler = joblib.load('scaler_1.pkl')\n",
    "\n",
    "def predict_loan_approval():\n",
    "    # Get input values from the entry widgets\n",
    "    no_of_dependents = float(entry_no_of_dependents.get())\n",
    "    income_annum = float(entry_income_annum.get())\n",
    "    cibil_score = float(entry_cibil_score.get())\n",
    "    education_encoded = int(entry_education_encoded.get())\n",
    "    self_employed_encoded = int(entry_self_employed_encoded.get())\n",
    "    \n",
    "    # Preprocessing the input data\n",
    "    input_data = np.array([[no_of_dependents, income_annum, cibil_score, education_encoded, self_employed_encoded]])\n",
    "    input_data_scaled = scaler.transform(input_data)\n",
    "    \n",
    "    # Make predictions using the model\n",
    "    prediction = model.predict(input_data_scaled)\n",
    "    predicted_label = \"Approved\" if prediction[0] == 1 else \"Rejected\"\n",
    "    \n",
    "    # Display the prediction result\n",
    "    label_prediction.config(text=f'Prediction: {predicted_label}')\n",
    "\n",
    "# Create the main GUI window\n",
    "root = tk.Tk()\n",
    "root.title(\"Loan Approval Prediction\")\n",
    "root.configure(bg='skyblue')  \n",
    "\n",
    "# Create labels for user input\n",
    "label_no_of_dependents = ttk.Label(root, text=\"Number of Dependents:\", font=('Arial', 12, 'bold'), foreground='white', background='#3498db')\n",
    "label_income_annum = ttk.Label(root, text=\"Income Annually:\", font=('Arial', 12, 'bold'), foreground='white', background='#3498db')\n",
    "label_cibil_score = ttk.Label(root, text=\"CIBIL Score:\", font=('Arial', 12, 'bold'), foreground='white', background='#3498db')\n",
    "label_education_encoded = ttk.Label(root, text=\"Education Encoded:\", font=('Arial', 12, 'bold'), foreground='white', background='#3498db')\n",
    "label_self_employed_encoded = ttk.Label(root, text=\"Self Employed Encoded:\", font=('Arial', 12, 'bold'), foreground='white', background='#3498db')\n",
    "\n",
    "# Create entry widgets for user input\n",
    "entry_no_of_dependents = ttk.Entry(root, font=('Arial', 12))\n",
    "entry_income_annum = ttk.Entry(root, font=('Arial', 12))\n",
    "entry_cibil_score = ttk.Entry(root, font=('Arial', 12))\n",
    "entry_education_encoded = ttk.Entry(root, font=('Arial', 12))\n",
    "entry_self_employed_encoded = ttk.Entry(root, font=('Arial', 12))\n",
    "\n",
    "# Create a button to make predictions\n",
    "button_predict = ttk.Button(root, text=\"Predict\", command=predict_loan_approval, style='TButton')\n",
    "\n",
    "# Create a label to display the prediction result\n",
    "label_prediction = ttk.Label(root, text=\"Prediction:\", font=('Arial', 12, 'bold'), foreground='white', background='#3498db')\n",
    "\n",
    "# Layout the widgets using grid\n",
    "label_no_of_dependents.grid(row=0, column=0, padx=10, pady=5)\n",
    "entry_no_of_dependents.grid(row=0, column=1, padx=10, pady=5)\n",
    "label_income_annum.grid(row=1, column=0, padx=10, pady=5)\n",
    "entry_income_annum.grid(row=1, column=1, padx=10, pady=5)\n",
    "label_cibil_score.grid(row=2, column=0, padx=10, pady=5)\n",
    "entry_cibil_score.grid(row=2, column=1, padx=10, pady=5)\n",
    "label_education_encoded.grid(row=3, column=0, padx=10, pady=5)\n",
    "entry_education_encoded.grid(row=3, column=1, padx=10, pady=5)\n",
    "label_self_employed_encoded.grid(row=4, column=0, padx=10, pady=5)\n",
    "entry_self_employed_encoded.grid(row=4, column=1, padx=10, pady=5)\n",
    "button_predict.grid(row=5, column=0, columnspan=2, padx=10, pady=10)\n",
    "label_prediction.grid(row=6, column=0, columnspan=2, padx=10, pady=5)\n",
    "\n",
    "# Create a custom style for the button\n",
    "style = ttk.Style()\n",
    "style.configure('TButton', font=('Arial', 12, 'bold'), background='yellow', foreground='green')\n",
    "\n",
    "root.mainloop()"
   ]
  }
 ],
 "metadata": {
  "kernelspec": {
   "display_name": "Python 3",
   "language": "python",
   "name": "python3"
  },
  "language_info": {
   "codemirror_mode": {
    "name": "ipython",
    "version": 3
   },
   "file_extension": ".py",
   "mimetype": "text/x-python",
   "name": "python",
   "nbconvert_exporter": "python",
   "pygments_lexer": "ipython3",
   "version": "3.8.8"
  }
 },
 "nbformat": 4,
 "nbformat_minor": 5
}
